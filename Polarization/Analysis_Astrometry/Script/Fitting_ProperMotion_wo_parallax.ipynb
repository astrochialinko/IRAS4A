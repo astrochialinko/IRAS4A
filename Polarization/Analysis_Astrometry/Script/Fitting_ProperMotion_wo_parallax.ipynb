{
 "cells": [
  {
   "cell_type": "code",
   "execution_count": 13,
   "metadata": {},
   "outputs": [],
   "source": [
    "import numpy as np\n",
    "from sympy import *\n",
    "from scipy import stats\n",
    "from scipy.optimize import lsq_linear\n",
    "from scipy.optimize import curve_fit\n",
    "from scipy.odr import *\n",
    "from uncertainties import ufloat\n",
    "from uncertainties import unumpy\n",
    "\n",
    "import plotly.graph_objects as go\n",
    "import astropy.io.fits as pyfits\n",
    "from astropy import units as u\n",
    "from astropy.wcs import WCS\n",
    "from astropy.coordinates import SkyCoord\n",
    "from astropy.time import Time\n",
    "from skyfield.api import load\n",
    "\n",
    "import matplotlib.pyplot as plt\n",
    "from matplotlib import rc, rcParams, style\n",
    "from matplotlib.ticker import (MultipleLocator, FormatStrFormatter, AutoMinorLocator)\n",
    "\n",
    "from sys import argv\n",
    "import time\n",
    "import os\n",
    "import copy\n",
    "import warnings"
   ]
  },
  {
   "cell_type": "code",
   "execution_count": 4,
   "metadata": {},
   "outputs": [],
   "source": [
    "Data_list = np.array(['Q', 'K', 'K', 'Ka', 'B7', 'B6', 'B3', 'B4'])\n",
    "\n",
    "Coord_gaufit_4A2_refit = \\\n",
    "                   [SkyCoord('03h29m10.430s', '+31d13m32.16s', frame='icrs'),\\\n",
    "                    SkyCoord('03h29m10.428s', '+31d13m32.09s', frame='icrs'),\\\n",
    "                    SkyCoord('03h29m10.429s', '+31d13m32.08s', frame='icrs'),\\\n",
    "                    SkyCoord('03h29m10.428s', '+31d13m32.08s', frame='icrs'),\\\n",
    "                    SkyCoord('03h29m10.430s', '+31d13m32.06s', frame='icrs'),\\\n",
    "                    SkyCoord('03h29m10.430s', '+31d13m32.07s', frame='icrs'),\\\n",
    "                    SkyCoord('03h29m10.430s', '+31d13m32.07s', frame='icrs'),\\\n",
    "                    SkyCoord('03h29m10.431s', '+31d13m32.04s', frame='icrs'),\\\n",
    "                   ] \n",
    "\n",
    "Time_list = [Time('2014-10-13'),\\\n",
    "             Time('2016-06-04'),\\\n",
    "             Time('2016-08-06'),\\\n",
    "             Time('2016-09-04'),\\\n",
    "             Time('2016-09-06'),\\\n",
    "             Time('2016-11-04'),\\\n",
    "             Time('2017-08-17'),\\\n",
    "             Time('2019-07-20'),\\\n",
    "            ]\n",
    "\n",
    "# position uncertainties [arcsec]\n",
    "Position_err_4A2_list = \\\n",
    "            [39e-3,\\\n",
    "             25e-3,\\\n",
    "             24e-3,\\\n",
    "             20e-3,\\\n",
    "             50e-3,\\\n",
    "             19e-3,\\\n",
    "             13e-3,\\\n",
    "             3e-3\n",
    "            ]\n",
    "# ra [deg]\n",
    "Coord_4A2_ra = np.array([ufloat(SkyCoord('03h29m10.430s', '+31d13m32.16s', frame='icrs').ra.deg*36e5, 39.), \\\n",
    "                         ufloat(SkyCoord('03h29m10.428s', '+31d13m32.09s', frame='icrs').ra.deg*36e5, 25.), \\\n",
    "                         ufloat(SkyCoord('03h29m10.429s', '+31d13m32.08s', frame='icrs').ra.deg*36e5, 24.), \\\n",
    "                         ufloat(SkyCoord('03h29m10.428s', '+31d13m32.08s', frame='icrs').ra.deg*36e5, 22.), \\\n",
    "                         ufloat(SkyCoord('03h29m10.430s', '+31d13m32.06s', frame='icrs').ra.deg*36e5, 55.), \\\n",
    "                         ufloat(SkyCoord('03h29m10.430s', '+31d13m32.07s', frame='icrs').ra.deg*36e5, 19.), \\\n",
    "                         ufloat(SkyCoord('03h29m10.430s', '+31d13m32.07s', frame='icrs').ra.deg*36e5, 13.), \\\n",
    "                         ufloat(SkyCoord('03h29m10.431s', '+31d13m32.04s', frame='icrs').ra.deg*36e5, 3.), \\\n",
    "                        ])\n",
    "\n",
    "# dec [deg]\n",
    "Coord_4A2_dec = np.array([ufloat(SkyCoord('03h29m10.430s', '+31d13m32.16s', frame='icrs').dec.deg*36e5, 39.), \\\n",
    "                         ufloat(SkyCoord('03h29m10.428s', '+31d13m32.09s', frame='icrs').dec.deg*36e5, 25.), \\\n",
    "                         ufloat(SkyCoord('03h29m10.429s', '+31d13m32.08s', frame='icrs').dec.deg*36e5, 24.), \\\n",
    "                         ufloat(SkyCoord('03h29m10.428s', '+31d13m32.08s', frame='icrs').dec.deg*36e5, 22.), \\\n",
    "                         ufloat(SkyCoord('03h29m10.430s', '+31d13m32.06s', frame='icrs').dec.deg*36e5, 55.), \\\n",
    "                         ufloat(SkyCoord('03h29m10.430s', '+31d13m32.07s', frame='icrs').dec.deg*36e5, 19.), \\\n",
    "                         ufloat(SkyCoord('03h29m10.430s', '+31d13m32.07s', frame='icrs').dec.deg*36e5, 13.), \\\n",
    "                         ufloat(SkyCoord('03h29m10.431s', '+31d13m32.04s', frame='icrs').dec.deg*36e5, 3.), \\\n",
    "                        ])\n",
    "\n",
    "color_list = ['red', 'orange', 'yellow', 'lime', 'green', 'blue', 'purple', 'black']\n",
    "\n",
    "# Center: ALMA Band 4\n",
    "i_center = -1\n",
    "Coord_center_4A2 = Coord_gaufit_4A2_refit[i_center]\n",
    "Coord_center_4A2_ra = Coord_4A2_ra[i_center]\n",
    "Coord_center_4A2_dec = Coord_4A2_dec[i_center]\n",
    "time_center_4A2 = Time_list[i_center]"
   ]
  },
  {
   "cell_type": "code",
   "execution_count": 5,
   "metadata": {},
   "outputs": [],
   "source": [
    "# BCRS positions of Earth\n",
    "def get_BCRS_earth(time_jd):\n",
    "\n",
    "    '''\n",
    "    Purpose:\n",
    "    Get the Barycentric coordinates of the Earth [au] from the given time [Julian day]\n",
    "    \n",
    "    Input:\n",
    "    - time_jd                  # Time of the observation [jd; float]\n",
    "      \n",
    "    Output:    \n",
    "    - earth_bcrs.position.au   # Barycentric coordinates of the Earth  [au; ndarray]\n",
    "                               # e.g., X, Y, Z, = [0.9438507  0.30264628 0.13106085]\n",
    "    \n",
    "    '''\n",
    "    \n",
    "    # convert time unit from Julian day (jd) to year, month, and date\n",
    "    t_jd = Time(time_jd, format='jd')\n",
    "    t_y = int(str(t_jd.datetime)[0:4])\n",
    "    t_m = int(str(t_jd.datetime)[5:7])\n",
    "    t_d = int(str(t_jd.datetime)[8:10])\n",
    "\n",
    "    # The position of the Earth\n",
    "    # python package: Skyfield \n",
    "    planets = load('de421.bsp')\n",
    "    earth = planets['earth']\n",
    "\n",
    "    ts = load.timescale()\n",
    "    t = ts.utc(t_y, t_m, t_d)\n",
    "\n",
    "    # From the center of the Solar System (Barycentric coord.)\n",
    "    earth_bcrs = earth.at(t)\n",
    "    \n",
    "    return earth_bcrs.position.au"
   ]
  },
  {
   "cell_type": "code",
   "execution_count": 8,
   "metadata": {},
   "outputs": [],
   "source": [
    "# The projections of the parallactic ellipse\n",
    "def get_project_parallactic(ra_deg, dec_deg, earth_bcrs_au):\n",
    "    \n",
    "    '''\n",
    "    Purpose:\n",
    "    Get the projection over ra, dec of the parallactic eclipse (f_ra, f_dec) \n",
    "    from the given ra, dec, and the barycentric coordinates of the Earth\n",
    "    \n",
    "    Input:\n",
    "    - ra_deg             # Right Ascension [deg]\n",
    "    - dec_deg            # Declination [deg]\n",
    "    - earth_bcrs_au      # BCRS positions of Earth [au]\n",
    "    \n",
    "    Output: \n",
    "    - f_ra               # projection over ra of the parallactic eclipse [au]\n",
    "    - f_dec              # projection over dec of the parallactic eclipse [au]\n",
    "    '''\n",
    "    \n",
    "    # corvert ra, dec from degree to rad\n",
    "    ra_rad = np.deg2rad(ra_deg)\n",
    "    dec_rad = np.deg2rad(dec_deg)\n",
    "    \n",
    "    # corvert BCRS_earth to X, Y, Z format\n",
    "    X = earth_bcrs_au[0]  # [au]\n",
    "    Y = earth_bcrs_au[1]  # [au]\n",
    "    Z = earth_bcrs_au[2]  # [au]\n",
    "    \n",
    "    # projection over ra and dec of the parallactic eclipse (Seidelmann 1992)\n",
    "    f_ra = np.divide(X*np.sin(ra_rad)-Y*np.cos(ra_rad), np.cos(dec_rad))\n",
    "    f_dec = X*np.cos(ra_rad)*np.sin(ra_rad) + Y*np.sin(ra_rad)*np.sin(ra_rad) - Z*np.cos(dec_rad)\n",
    "\n",
    "    return f_ra, f_dec"
   ]
  },
  {
   "cell_type": "code",
   "execution_count": 9,
   "metadata": {},
   "outputs": [],
   "source": [
    "# convert the unit from milliarcsecond to radius\n",
    "def mas2rad(u_mas):\n",
    "    return np.deg2rad(np.divide(u_mas, 36e5))\n",
    "\n",
    "# convert the unit from milliarcsecond to arcsecond\n",
    "def arcs2mas(u_mas):\n",
    "    return np.divide(u_mas, 36e5)\n",
    "\n",
    "# convert the unit from deg to milliarcsecond\n",
    "def deg2mas(u_deg):\n",
    "    return u_deg*36e5"
   ]
  },
  {
   "cell_type": "markdown",
   "metadata": {},
   "source": [
    "#### Fitting without considering the parallax\n",
    "\n",
    "y = a*x + b\n",
    "\n",
    "$\\alpha(t)$ = $\\mu_{\\alpha}$ cos$\\delta$ $(t - t_{0}$) + $\\alpha(t_{0})$\n",
    "\n",
    "$\\delta(t)$ = $\\mu_{\\delta}$ $(t - t_{0}$) + $\\delta(t_{0})$"
   ]
  },
  {
   "cell_type": "code",
   "execution_count": 11,
   "metadata": {},
   "outputs": [
    {
     "name": "stdout",
     "output_type": "stream",
     "text": [
      "#------------------\n",
      "Fitting result:\n",
      "Proper motion in RA  = 11.3440162829 [mas yr-1]\n",
      "Proper motion in Dec = -12.5461759478 [mas yr-1]\n",
      "\n",
      "The position of the ALMA Band 4 without parallax (i.e., fitting result)\n",
      "RA  = 188256468.09 [mas]\n",
      "Dec = 112412040.513 [mas]\n",
      "The position of the ALMA Band 4 with parallax (i.e., obs.)\n",
      "RA  = 188256465.0 [mas]\n",
      "Dec = 112412040.0 [mas]\n",
      "\n",
      "The different of the ALMA Band 4 w/ & w/o parallax\n",
      "From fitting\n",
      "RA  = -3.09033963084 [mas]\n",
      "Dec  = -0.512803688645 [mas]\n",
      "Magnitude = 3.13259742978 [mas]\n",
      "From observation (i.e, f_ra, f_dec * parallax)\n",
      "RA  = 3.03464347473 [mas]\n",
      "Dec  = 0.0287043720612 [mas]\n",
      "Magnitude = 3.0347792275 [mas]\n",
      "Note: the position uncertainty is 3 mas\n"
     ]
    }
   ],
   "source": [
    "#----------------------------------------------------\n",
    "# Fit the proper motion w/o considering the prarllax\n",
    "#\n",
    "# Assumption:\n",
    "# (1) the parallax by the distance of 293 pc for the Perseus Molecular Cloud\n",
    "parallax = 3.         # parallax [mas]\n",
    "# (2) Set the center position to the ALMA Band 4 \n",
    "i_std = 7          # ALMA Band 4 observation\n",
    "# (3) fitting without Q band observation due to the poor resolution\n",
    "\n",
    "###----------\n",
    "# Convert the observation \n",
    "# (1) from list format to array\n",
    "# (2) from ra, dec to the fitting y, x term \n",
    "\n",
    "# Set the empty list\n",
    "x_ra_list, x_dec_list = [], []\n",
    "y_ra_list, y_dec_list = [], []\n",
    "\n",
    "ra_mas_list, dec_mas_list = [], []\n",
    "time_jd_list, time_diff_yr_list = [], []\n",
    "Position_err_4A2_mas_list = []\n",
    "\n",
    "for i in range(1,8):\n",
    "\n",
    "    # obtain the information of ra, dec, time from the observations\n",
    "    ra_deg = Coord_gaufit_4A2_refit[i].ra.deg             # ra [deg; float]\n",
    "    dec_deg = Coord_gaufit_4A2_refit[i].dec.deg           # dec [deg; float]\n",
    "    Position_err_4A2_mas = Position_err_4A2_list[i]*1e3   # error of ra, dec [mas; float]\n",
    "    \n",
    "    time_ymd = Time_list[i]                               # time [y-m-d h:m:s; astropy.time.core.Time]\n",
    "    time_jd = float(time_ymd.jd)                          # time [jd; float]\n",
    "    time_std_ymd = Time_list[i_std]                       # time [y-m-d h:m:s; astropy.time.core.Time]\n",
    "    time_std_jd = float(time_std_ymd.jd)                  # time [jd; float]\n",
    "    time_diff_yr = np.divide(time_jd- time_std_jd, 365.)  # time difference  [yr; float]\n",
    "\n",
    "    # corvert the unit of ra and dec from deg to mas\n",
    "    ra_mas = deg2mas(ra_deg)                              # ra [mas; float]\n",
    "    dec_mas = deg2mas(dec_deg)                            # dec [mas; float]\n",
    "    \n",
    "    y_ra = ra_mas                      # RA(t)    [mas]\n",
    "    x_ra = time_diff_yr                # t - t_0  [yr]\n",
    "    y_dec = dec_mas                    # Dec(t)   [mas]\n",
    "    x_dec = time_diff_yr               # t - t_0  [yr]\n",
    "    \n",
    "    # get the prject of the Earth to calculate the parallax\n",
    "    earth_bcrs_au = get_BCRS_earth(time_jd)\n",
    "    f_ra, f_dec = get_project_parallactic(ra_deg, dec_deg, earth_bcrs_au)\n",
    "    \n",
    "    if i == i_std:\n",
    "        f_ra_std = f_ra\n",
    "        f_dec_std = f_dec\n",
    "\n",
    "    #y_ra = np.divide( ra_mas - fa*parallax, np.cos(np.deg2rad(dec_deg)) ) # [mas]\n",
    "    #y_ra = ra_mas - f_ra*parallax      # [mas]\n",
    "    #x_ra = time_diff_yr                # [yr]\n",
    "    #y_dec = dec_mas - f_dec*parallax   # [mas]\n",
    "    #x_dec = time_diff_yr               # [yr]\n",
    "\n",
    "    ra_mas_list.append(ra_mas)\n",
    "    dec_mas_list.append(dec_mas) \n",
    "    time_jd_list.append(time_jd)\n",
    "    time_diff_yr_list.append(time_diff_yr)\n",
    "    Position_err_4A2_mas_list.append(Position_err_4A2_mas)\n",
    "    \n",
    "    y_ra_list.append(y_ra)\n",
    "    x_ra_list.append(x_ra)\n",
    "    y_dec_list.append(y_dec)\n",
    "    x_dec_list.append(x_dec)\n",
    "\n",
    "ra_mas_arr = np.array(ra_mas_list) \n",
    "dec_mas_arr = np.array(dec_mas_list) \n",
    "time_jd_arr = np.array(time_jd_list)\n",
    "time_diff_yr_arr = np.array(time_diff_yr_list)\n",
    "Position_err_4A2_mas_arr = np.array(Position_err_4A2_mas_list)\n",
    "y_ra_arr = np.array(y_ra_list)          # RA(t)    [mas]\n",
    "x_ra_arr = np.array(x_ra_list)          # t - t_0  [yr]\n",
    "y_dec_arr = np.array(y_dec_list)        # Dec(t)   [mas]\n",
    "x_dec_arr = np.array(x_dec_list)        # t - t_0  [yr]\n",
    "\n",
    "###----------\n",
    "# linear regression\n",
    "# Python package numpy.polyfit with order = 1\n",
    "z_ra_arr = np.polyfit(x_ra_arr, y_ra_arr, 1)       # Proper_motion_ra[mas yr-1]; ra_0[mas]\n",
    "z_dec_arr = np.polyfit(x_dec_arr, y_dec_arr, 1)    # Proper_motion_dec[mas yr-1]; dec_0[mas]\n",
    "\n",
    "#------------------\n",
    "# Fitting result\n",
    "print '#------------------'\n",
    "print 'Fitting result:'\n",
    "# the proper motion [mas yr-1]\n",
    "proper_ra_fit_masyr = z_ra_arr[0]\n",
    "proper_dec_fit_masyr = z_dec_arr[0]\n",
    "print 'Proper motion in RA  = {0} [mas yr-1]'.format(proper_ra_fit_masyr)\n",
    "print 'Proper motion in Dec = {0} [mas yr-1]'.format(proper_dec_fit_masyr)\n",
    "print ''\n",
    "\n",
    "# the position of the ALMA Band 4 without parallax [mas]\n",
    "ra_0_fit_mas = z_ra_arr[1]\n",
    "dec_0_fit_mas = z_dec_arr[1]\n",
    "print 'The position of the ALMA Band 4 without parallax (i.e., fitting result)'\n",
    "print 'RA  = {0} [mas]'.format(ra_0_fit_mas)\n",
    "print 'Dec = {0} [mas]'.format(dec_0_fit_mas)\n",
    "\n",
    "# compare the position of the ALMA Band 4 with parallax [mas]\n",
    "ra_std_mas = deg2mas(Coord_gaufit_4A2_refit[i_std].ra.deg)\n",
    "dec_std_mas = deg2mas(Coord_gaufit_4A2_refit[i_std].dec.deg)\n",
    "print 'The position of the ALMA Band 4 with parallax (i.e., obs.)'\n",
    "print 'RA  = {0} [mas]'.format(ra_std_mas)\n",
    "print 'Dec = {0} [mas]'.format(dec_std_mas)\n",
    "print ''\n",
    "\n",
    "# the difference of the ra_0, ra_std & dec_0, dec_std\n",
    "ra_0_diff_mas = ra_std_mas - ra_0_fit_mas\n",
    "dec_0_diff_mas = dec_std_mas - dec_0_fit_mas\n",
    "mag_0_diff_mas = np.sqrt(ra_0_diff_mas**2 + dec_0_diff_mas**2)\n",
    "ra_obs_pallax_mas = f_ra_std*parallax\n",
    "dec_obs_pallax_mas = f_dec_std*parallax\n",
    "mag_obs_pallax_mas = np.sqrt(ra_obs_pallax_mas**2 + dec_obs_pallax_mas**2)\n",
    "print 'The different of the ALMA Band 4 w/ & w/o parallax'\n",
    "print 'From fitting'\n",
    "print 'RA  = {0} [mas]'.format(ra_0_diff_mas)\n",
    "print 'Dec  = {0} [mas]'.format(dec_0_diff_mas)\n",
    "print 'Magnitude = {0} [mas]'.format(mag_0_diff_mas)\n",
    "print 'From observation (i.e, f_ra, f_dec * parallax)'\n",
    "print 'RA  = {0} [mas]'.format(ra_obs_pallax_mas)\n",
    "print 'Dec  = {0} [mas]'.format(dec_obs_pallax_mas)\n",
    "print 'Magnitude = {0} [mas]'.format(mag_obs_pallax_mas)\n",
    "print 'Note: the position uncertainty is 3 mas'"
   ]
  },
  {
   "cell_type": "code",
   "execution_count": 18,
   "metadata": {},
   "outputs": [
    {
     "name": "stdout",
     "output_type": "stream",
     "text": [
      "Proper motion in RA  = 11.3440162829 [mas yr-1]\n",
      "Proper motion in Dec = -12.5461759478 [mas yr-1]\n",
      "\n",
      "11.344016250982046 188256468.09033957 0.7377758856000475 0.05837571852620281 4.641844403234399\n",
      "0.5443132573729343\n",
      "-12.546175958824 112412040.51280366 -0.849861426784502 0.015446447978336886 3.4793169629947305\n"
     ]
    }
   ],
   "source": [
    "# the proper motion [mas yr-1]\n",
    "proper_ra_fit_masyr = z_ra_arr[0]\n",
    "proper_dec_fit_masyr = z_dec_arr[0]\n",
    "print 'Proper motion in RA  = {0} [mas yr-1]'.format(proper_ra_fit_masyr)\n",
    "print 'Proper motion in Dec = {0} [mas yr-1]'.format(proper_dec_fit_masyr)\n",
    "print ''\n",
    "\n",
    "\n",
    "# \n",
    "slope, intercept, r_value, p_value, std_err = stats.linregress(x_ra_arr,y_ra_arr)\n",
    "print slope, intercept, r_value, p_value, std_err\n",
    "print np.power(r_value, 2)\n",
    "\n",
    "slope, intercept, r_value, p_value, std_err = stats.linregress(x_dec_arr,y_dec_arr)\n",
    "print slope, intercept, r_value, p_value, std_err"
   ]
  },
  {
   "cell_type": "code",
   "execution_count": 73,
   "metadata": {},
   "outputs": [
    {
     "name": "stdout",
     "output_type": "stream",
     "text": [
      "Beta: [1.06752023e+01 1.88256465e+08]\n",
      "Beta Std Error: [1.79001021 1.42497094]\n",
      "Beta Covariance: [[13.41331016  2.40453951]\n",
      " [ 2.40453951  8.50035315]]\n",
      "Residual Variance: 0.238877391839\n",
      "Inverse Condition #: 0.0815287731271\n",
      "Reason(s) for Halting:\n",
      "  Parameter convergence\n"
     ]
    },
    {
     "data": {
      "image/png": "[encoded data removed]",
      "text/plain": [
       "<Figure size 432x288 with 1 Axes>"
      ]
     },
     "metadata": {
      "needs_background": "light"
     },
     "output_type": "display_data"
    }
   ],
   "source": [
    "# Define a function (y = a*x + b in our case) to fit the data with.\n",
    "def linear_func(p, x):\n",
    "    a, b = p\n",
    "    return a*x + b\n",
    "\n",
    "# Create a model for fitting.\n",
    "linear_model = Model(linear_func)\n",
    "\n",
    "x = x_ra_arr\n",
    "y = y_ra_arr\n",
    "# Create a RealData object using our initiated data from above.\n",
    "data = RealData(x, y, \\\n",
    "                sy=Position_err_4A2_mas_arr)\n",
    "\n",
    "# Set up ODR with the model and data.\n",
    "odr = ODR(data, linear_model, beta0=[0., 1.])\n",
    "\n",
    "# Run the regression.\n",
    "out = odr.run()\n",
    "\n",
    "# Use the in-built pprint method to give us results.\n",
    "out.pprint()\n",
    "\n",
    "x_fit = np.linspace(x[0], x[-1], 1000)\n",
    "y_fit = linear_func(out.beta, x_fit)\n",
    "\n",
    "plt.errorbar(x, y, yerr=Position_err_4A2_mas_arr, linestyle='None', marker='x')\n",
    "plt.plot(x_fit, y_fit)\n",
    "\n",
    "plt.show()"
   ]
  },
  {
   "cell_type": "code",
   "execution_count": 77,
   "metadata": {},
   "outputs": [
    {
     "name": "stdout",
     "output_type": "stream",
     "text": [
      "[1.11418706e+01 1.88256468e+08]\n",
      "[[ 21.4771969   51.41738689]\n",
      " [ 51.41738689 145.70255084]]\n",
      "[ 4.63434967 12.07073116]\n"
     ]
    }
   ],
   "source": [
    "# curve_fit\n",
    "def func(x, m, n):\n",
    "    return m * x + n\n",
    "\n",
    "popt, pcov = curve_fit(func, x, y)\n",
    "perr = np.sqrt(np.diag(pcov))\n",
    "print popt\n",
    "print pcov\n",
    "print perr\n"
   ]
  },
  {
   "cell_type": "code",
   "execution_count": 78,
   "metadata": {},
   "outputs": [
    {
     "name": "stdout",
     "output_type": "stream",
     "text": [
      "[1.13440163e+01 1.88256468e+08]\n",
      "(array([1.13440163e+01, 1.88256468e+08]), array([790.94199054]), 2, array([1.3844672 , 0.28853174]), 1.5543122344752192e-15)\n",
      "(array([-1.25461759e+01,  1.12412041e+08]), array([444.37688818]), 2, array([1.3844672 , 0.28853174]), 1.5543122344752192e-15)\n"
     ]
    }
   ],
   "source": [
    "z_ra_arr = np.polyfit(x_ra_arr, y_ra_arr, 1)\n",
    "print z_ra_arr\n",
    "\n",
    "full_z_ra_arr = np.polyfit(x_ra_arr, y_ra_arr, 1, full=True)\n",
    "full_z_dec_arr = np.polyfit(x_dec_arr, y_dec_arr, 1, full=True)\n",
    "# Residuals of the least-squares fit\n",
    "# the effective rank of the scaled Vandermonde coefficient matrix\n",
    "# its singular values\n",
    "# the specified value of rcond.\n",
    "print full_z_ra_arr\n",
    "print full_z_dec_arr"
   ]
  },
  {
   "cell_type": "code",
   "execution_count": 49,
   "metadata": {},
   "outputs": [
    {
     "name": "stdout",
     "output_type": "stream",
     "text": [
      "[1.88256420e+08 1.88256435e+08 1.88256420e+08 1.88256450e+08\n",
      " 1.88256450e+08 1.88256450e+08 1.88256465e+08]\n",
      "[1.1241209e+08 1.1241208e+08 1.1241208e+08 1.1241206e+08 1.1241207e+08\n",
      " 1.1241207e+08 1.1241204e+08]\n",
      "[2457543.5 2457606.5 2457635.5 2457637.5 2457696.5 2457982.5 2458684.5]\n",
      "[-3.1260274  -2.95342466 -2.8739726  -2.86849315 -2.70684932 -1.92328767\n",
      "  0.        ]\n",
      "[25. 24. 20. 50. 19. 13.  3.]\n"
     ]
    }
   ],
   "source": [
    "print ra_mas_arr\n",
    "print dec_mas_arr\n",
    "print time_jd_arr\n",
    "print time_diff_yr_arr\n",
    "print Position_err_4A2_mas_arr"
   ]
  },
  {
   "cell_type": "code",
   "execution_count": 68,
   "metadata": {},
   "outputs": [
    {
     "data": {
      "image/png": "[encoded data removed]",
      "text/plain": [
       "<Figure size 432x288 with 1 Axes>"
      ]
     },
     "metadata": {
      "needs_background": "light"
     },
     "output_type": "display_data"
    }
   ],
   "source": [
    "# Plot the fitting result\n",
    "# proper_ra * cos(dec)\n",
    "\n",
    "Coord_gaufit_4A2_refit\n",
    "\n",
    "\n",
    "plt.errorbar(x = time_diff_yr_arr, y = ra_mas_arr, \\\n",
    "             yerr = Position_err_4A2_mas_arr,\\\n",
    "             marker ='o', fmt='.')\n",
    "\n",
    "\n",
    "# plot the fitting result\n",
    "#t = np.linspace(t0_diff_yr, tf_diff_yr, 20)\n",
    "# y = a*x + b\n",
    "# y = proper_ra*cos(dec)*x + ra_0\n",
    "#y_ra_fit = z_ra_arr[0]*t + z_ra_arr[1]\n",
    "#plt.plot(t, y_ra_fit)\n",
    "\n",
    "# set the figure\n",
    "plt.title('RA v.s. Time')\n",
    "plt.xlabel('ObsTime - B4Time [yr]')\n",
    "plt.ylabel(r'$\\mu_{\\alpha}$ $cos\\,\\delta$ [mas yr$^{\\,-1}$]')\n",
    "plt.grid()\n",
    "plt.show()"
   ]
  },
  {
   "cell_type": "code",
   "execution_count": 51,
   "metadata": {},
   "outputs": [],
   "source": [
    "# Time\n",
    "\n",
    "# get the time information from the observations\n",
    "time_ymd = Time_list[i]                       # time [y-m-d h:m:s; astropy.time.core.Time]\n",
    "time_jd = float(time_ymd.jd)                  # time [jd; float]\n",
    "# time information from the reference data\n",
    "time_std_ymd = Time_list[i_std]               # time [y-m-d h:m:s; astropy.time.core.Time]\n",
    "time_std_jd = float(time_std_ymd.jd)          # time [jd; float]\n",
    "# time difference\n",
    "time_diff_yr = np.divide(time_jd - time_std_jd, 365.) # time difference  [yr; float]\n",
    "\n",
    "# Convert time unit from y-m-d to jd\n",
    "t0_jd = float(Time_list[0].jd)\n",
    "tf_jd = float(Time_list[-1].jd)\n",
    "t_std_jd = float(Time_list[i_std].jd)\n",
    "\n",
    "# Convert time unit from jd to year\n",
    "t0_yr = t0_jd/365.\n",
    "tf_yr = tf_jd/365.\n",
    "t_std_yr = t_std_jd/365.\n",
    "\n",
    "# Time different from the first fitting plot (JVLA K) btw the reference (ALMA B4) [yr]\n",
    "t0_diff_yr = t0_yr - t_std_yr\n",
    "tf_diff_yr = tf_yr - t_std_yr"
   ]
  },
  {
   "cell_type": "code",
   "execution_count": 69,
   "metadata": {},
   "outputs": [
    {
     "data": {
      "image/png": "[encoded data removed]",
      "text/plain": [
       "<Figure size 432x288 with 1 Axes>"
      ]
     },
     "metadata": {
      "needs_background": "light"
     },
     "output_type": "display_data"
    }
   ],
   "source": [
    "# Plot the fitting result\n",
    "# proper_ra * cos(dec)\n",
    "\n",
    "plt.plot(x_ra_arr, y_ra_arr, 'o')\n",
    "\n",
    "\n",
    "# plot the fitting result\n",
    "t = np.linspace(t0_diff_yr, tf_diff_yr, 20)\n",
    "# y = a*x + b\n",
    "# y = proper_ra*cos(dec)*x + ra_0\n",
    "y_ra_fit = z_ra_arr[0]*t + z_ra_arr[1]\n",
    "plt.plot(t, y_ra_fit)\n",
    "\n",
    "# set the figure\n",
    "plt.title('Proper_RA v.s. Time')\n",
    "plt.xlabel('ObsTime - B4Time [yr]')\n",
    "plt.ylabel(r'$\\mu_{\\alpha}$ $cos\\,\\delta$ [mas yr$^{\\,-1}$]')\n",
    "plt.grid()\n",
    "plt.show()"
   ]
  },
  {
   "cell_type": "code",
   "execution_count": 53,
   "metadata": {},
   "outputs": [
    {
     "data": {
      "image/png": "[encoded data removed]",
      "text/plain": [
       "<Figure size 432x288 with 1 Axes>"
      ]
     },
     "metadata": {
      "needs_background": "light"
     },
     "output_type": "display_data"
    }
   ],
   "source": [
    "# Plot the fitting result\n",
    "# proper_dec\n",
    "\n",
    "plt.plot(x_dec_arr, y_dec_arr, 'o')\n",
    "\n",
    "\n",
    "# plot the fitting result\n",
    "t = np.linspace(t0_diff_yr, tf_diff_yr, 20)\n",
    "# y = a*x + b\n",
    "# y = proper_dec*x + dec_0\n",
    "y_dec_fit = z_dec_arr[0]*t + z_dec_arr[1]\n",
    "plt.plot(t, y_dec_fit)\n",
    "\n",
    "# set the figure\n",
    "plt.title('Proper_Dec v.s. Time')\n",
    "plt.xlabel('ObsTime - B4Time [yr]')\n",
    "plt.ylabel(r'$\\mu_{\\delta}$ [mas yr$^{\\,-1}$]')\n",
    "plt.grid()\n",
    "plt.show()"
   ]
  },
  {
   "cell_type": "code",
   "execution_count": 54,
   "metadata": {},
   "outputs": [],
   "source": [
    "# try to plot the parallax\n",
    "# need to solve the nonlinear equation to get ra, dec\n",
    "\n",
    "t = 1.\n",
    "parallax = 3.\n",
    "ra_fit_0_mas = z_ra_arr[1]/1e3 - Coord_center_4A2.ra.deg*36e2\n",
    "dec_fit_0_mas = z_dec_arr[1]/1e3 - Coord_center_4A2.dec.deg*36e2\n",
    "\n",
    "time_ymd = Time_list[i]                       # time [y-m-d h:m:s; astropy.time.core.Time]\n",
    "time_jd = float(time_ymd.jd)                  # time [jd; float]\n",
    "time_std_ymd = Time_list[i_std]               # time [y-m-d h:m:s; astropy.time.core.Time]\n",
    "time_std_jd = float(time_std_ymd.jd)          # time [jd; float]\n",
    "time_diff_yr = np.divide(time_jd- time_std_jd, 365.) # time difference  [yr; float]\n",
    "earth_bcrs_au = get_BCRS_earth(time_jd)\n",
    "fa, fd = get_project_parallactic(ra_deg, dec_deg, earth_bcrs_au)\n",
    "    \n",
    "z_ra_arr[0]*t\n",
    "z_dec_arr[0]*t\n",
    "\n",
    "\n",
    "t0_jd = float(Time_list[0].jd)\n",
    "tf_jd = float(Time_list[-1].jd)\n",
    "t_std_jd = float(Time_list[7].jd)\n",
    "\n",
    "t0_yr = t0_jd/365.\n",
    "tf_yr = tf_jd/365.\n",
    "t_std_yr = t_std_jd/365.\n",
    "\n",
    "t0_diff_yr = t0_yr - t_std_yr\n",
    "tf_diff_yr = tf_yr - t_std_yr\n",
    "\n",
    "n = 20\n",
    "t_jd = np.linspace(t0_jd, tf_jd, n)\n",
    "t_diff = np.linspace(t0_diff_yr, tf_diff_yr, n)\n",
    "\n",
    "t_jd = t0_jd\n",
    "t_diff = t0_diff_yr\n",
    "\n",
    "earth_bcrs_au = get_BCRS_earth(t_jd)\n",
    "# corvert BCRS_earth to X, Y, Z format\n",
    "X = earth_bcrs_au[0]  # [au]\n",
    "Y = earth_bcrs_au[1]  # [au]\n",
    "Z = earth_bcrs_au[2]  # [au]\n",
    "\n",
    "#print X, Y, Z\n",
    "\n",
    "# convert unit\n",
    "ra_fit_0_rad = mas2rad(ra_fit_0_mas)\n",
    "dec_fit_0_rad = mas2rad(dec_fit_0_mas)\n",
    "z_ra_rad = mas2rad(z_ra_arr[0])\n",
    "z_dec_rad = mas2rad(z_dec_arr[0])\n",
    "parallax_rad = mas2rad(parallax)\n",
    "\n",
    "fa, fd = get_project_parallactic(ra_deg, dec_deg, earth_bcrs_au)\n",
    "\n",
    "ra = Symbol('ra')\n",
    "dec = Symbol('dec')\n",
    "\n",
    "#func_ra = (ra_fit_0_rad - ra + parallax_rad* (X*sin(ra)-Y*cos(ra)) )* (-2/(z_ra_rad*t_diff)) -1 - cos(2*dec)\n",
    "#func_dec = parallax_rad* (X*sin(ra) - Y*cos(ra)) - cos(dec)\n",
    "\n",
    "#func_ra = ra_fit_0_rad + z_ra_rad*t_diff + parallax_rad*((X*sin(ra)-Y*cos(ra))/cos(dec)) - ra\n",
    "#func_dec = dec_fit_0_rad + z_dec_rad*t_diff + parallax_rad*(X*cos(ra)*sin(ra)+Y*sin(ra)*sin(dec)-Z*cos(dec)) - dec\n",
    "\n",
    "#sol = solve((func_ra, func_dec), ra, dec)\n",
    "#print sol"
   ]
  },
  {
   "cell_type": "code",
   "execution_count": 55,
   "metadata": {},
   "outputs": [
    {
     "name": "stdout",
     "output_type": "stream",
     "text": [
      "-15+/-19\n",
      "30+/-19\n",
      "31.225575+/-0.000005\n",
      "6+/-7\n",
      "-11+/-7\n",
      "2457696.5\n",
      "-2.70684931507\n"
     ]
    }
   ],
   "source": [
    "# test for fitting including the err. of the data\n",
    "i = 5\n",
    "\n",
    "ra_diff = Coord_4A2_ra[i] - Coord_center_4A2_ra # [mas]\n",
    "dec_diff = Coord_4A2_dec[i] - Coord_center_4A2_dec # [mas]\n",
    "time_diff = (Time_list[i].jd - time_center_4A2.jd)/365. #[year]\n",
    "cos_dec = unumpy.cos(Coord_4A2_dec[i]/36e5)\n",
    "\n",
    "y_ra = ra_diff/(time_diff*cos_dec)\n",
    "y_dec = dec_diff/time_diff\n",
    "print ra_diff\n",
    "print dec_diff\n",
    "\n",
    "print Coord_4A2_dec[i]/36e5   # dec[deg]\n",
    "print y_ra\n",
    "print y_dec\n",
    "\n",
    "print Time_list[i].jd\n",
    "print time_diff\n",
    "\n",
    "for i, data in enumerate(Data_list):\n",
    "    \n",
    "    ra = Coord_gaufit_4A2_refit[i].ra.hms\n",
    "    dec  = Coord_gaufit_4A2_refit[i].dec\n",
    "    # differece of Coord, each - B7 [mas]\n",
    "    ra_diff = (Coord_center_4A2.ra.deg - Coord_gaufit_4A2_refit[i].ra.deg)*3600*1e3\n",
    "    dec_diff = (Coord_gaufit_4A2_refit[i].dec.deg - Coord_center_4A2.dec.deg)*3600*1e3\n",
    "    \n",
    "    #print ra_diff, dec_diff"
   ]
  },
  {
   "cell_type": "code",
   "execution_count": 45,
   "metadata": {},
   "outputs": [
    {
     "name": "stdout",
     "output_type": "stream",
     "text": [
      "1.454441043328608e-08\n"
     ]
    }
   ],
   "source": [
    "print parallax_rad"
   ]
  },
  {
   "cell_type": "code",
   "execution_count": 46,
   "metadata": {},
   "outputs": [
    {
     "name": "stdout",
     "output_type": "stream",
     "text": [
      "refit via CASA imregrid\n",
      "(Q) ra=hms_tuple(h=3.0, m=29.0, s=10.43000000000049), dec=31d13m32.16s\n",
      "(K) ra=hms_tuple(h=3.0, m=29.0, s=10.428000000001276), dec=31d13m32.09s\n",
      "(K) ra=hms_tuple(h=3.0, m=29.0, s=10.429000000000883), dec=31d13m32.08s\n",
      "(Ka) ra=hms_tuple(h=3.0, m=29.0, s=10.428000000001276), dec=31d13m32.08s\n",
      "(B7) ra=hms_tuple(h=3.0, m=29.0, s=10.43000000000049), dec=31d13m32.06s\n",
      "(B6) ra=hms_tuple(h=3.0, m=29.0, s=10.43000000000049), dec=31d13m32.07s\n",
      "(B3) ra=hms_tuple(h=3.0, m=29.0, s=10.43000000000049), dec=31d13m32.07s\n",
      "(B4) ra=hms_tuple(h=3.0, m=29.0, s=10.431000000001802), dec=31d13m32.04s\n"
     ]
    },
    {
     "data": {
      "image/png": "[encoded data removed]",
      "text/plain": [
       "<Figure size 432x432 with 1 Axes>"
      ]
     },
     "metadata": {
      "needs_background": "light"
     },
     "output_type": "display_data"
    }
   ],
   "source": [
    "parallax = 3.\n",
    "t0_jd = float(Time_list[0].jd)\n",
    "tf_jd = float(Time_list[-1].jd)\n",
    "t_std_jd = float(Time_list[7].jd)\n",
    "t0_yr = t0_jd/365.\n",
    "tf_yr = tf_jd/365.\n",
    "t_std_yr = t_std_jd/365.\n",
    "#--------------------------------------- \n",
    "fig = plt.figure(figsize=(6, 6))\n",
    "ax = fig.add_axes([0.15,0.12,0.8,0.8]) \n",
    "\n",
    "print 'refit via CASA imregrid'\n",
    "\n",
    "# plot the fitting\n",
    "\n",
    "t = np.linspace(t0_diff_yr, tf_diff_yr, 20)\n",
    "ra_fit_0_mas = z_ra_arr[1]/1e3 - Coord_center_4A2.ra.deg*36e2\n",
    "dec_fit_0_mas = z_dec_arr[1]/1e3 - Coord_center_4A2.dec.deg*36e2\n",
    "ra_fit = ra_fit_0_mas - z_ra_arr[0]*t\n",
    "dec_fit = dec_fit_0_mas + z_dec_arr[0]*t\n",
    "ax.plot(ra_fit, dec_fit)\n",
    "\n",
    "for i, data in enumerate(Data_list):\n",
    "    \n",
    "    # obtain the information of ra, dec, time from the observations\n",
    "    ra_deg = Coord_gaufit_4A2_refit[i].ra.deg     # ra [deg; float]\n",
    "    dec_deg = Coord_gaufit_4A2_refit[i].dec.deg   # dec [deg; float]\n",
    "    \n",
    "    # corvert the unit of ra and dec from deg to mas\n",
    "    ra_mas = ra_deg*36e5    # ra [deg; float]\n",
    "    dec_mas = dec_deg*36e5   # dec [deg; float]\n",
    "    \n",
    "    err_mas = Position_err_4A2_list[i]\n",
    "       \n",
    "    ra = Coord_gaufit_4A2_refit[i].ra.hms\n",
    "    dec  = Coord_gaufit_4A2_refit[i].dec\n",
    "\n",
    "    print '(%s) ra=%s, dec=%s'%(data, ra, dec)    \n",
    "    \n",
    "    ax.errorbar((Coord_center_4A2.ra.deg - Coord_gaufit_4A2_refit[i].ra.deg)*36e5,\\\n",
    "                (Coord_gaufit_4A2_refit[i].dec.deg - Coord_center_4A2.dec.deg)*36e5,\\\n",
    "                xerr=Position_err_4A2_list[i]*1e3,\\\n",
    "                yerr=Position_err_4A2_list[i]*1e3,\\\n",
    "                fmt='o', color = color_list[i],\\\n",
    "                alpha=1, markersize=9, markeredgecolor='w', markeredgewidth=1, capsize=3,\\\n",
    "                label=data+', '+str(Time_list[i])[0:10])\n",
    "\n",
    "ax.set_title('IRAS4A2', fontsize=14)\n",
    "ax.set_xlabel('RA [mas]', fontsize=14)\n",
    "ax.set_ylabel('Dec [mas]', fontsize=14)\n",
    "\n",
    "ax.set_xlim(-20, 80)\n",
    "ax.set_ylim(-40, 140)\n",
    "#plt.xlim(52.29348*3600,52.29343*3600)\n",
    "#plt.ylim(31.22555*3600,31.22560*3600)\n",
    "ax.tick_params(which='major', direction='in', length=8, width=2, labelsize=13, top=True, right=True)\n",
    "ax.tick_params(which='minor', direction='in', length=4, width=2, labelsize=13, top=True, right=True)\n",
    "\n",
    "# set the width of the axes\n",
    "ax.spines['top'].set_linewidth(2)\n",
    "ax.spines['bottom'].set_linewidth(2)\n",
    "ax.spines['left'].set_linewidth(2)\n",
    "ax.spines['right'].set_linewidth(2)\n",
    "ax.grid(color='silver', alpha=0.5)\n",
    "ax.legend()\n",
    "\n",
    "#plt.savefig('%s4A2_Prop.pdf'%(path_figure))\n",
    "plt.show()"
   ]
  },
  {
   "cell_type": "code",
   "execution_count": 93,
   "metadata": {},
   "outputs": [
    {
     "name": "stdout",
     "output_type": "stream",
     "text": [
      "refit via CASA imregrid\n",
      "(Q) ra=hms_tuple(h=3.0, m=29.0, s=10.43000000000049), dec=31d13m32.16s\n",
      "(K) ra=hms_tuple(h=3.0, m=29.0, s=10.428000000001276), dec=31d13m32.09s\n",
      "(K) ra=hms_tuple(h=3.0, m=29.0, s=10.429000000000883), dec=31d13m32.08s\n",
      "(Ka) ra=hms_tuple(h=3.0, m=29.0, s=10.428000000001276), dec=31d13m32.08s\n",
      "(B7) ra=hms_tuple(h=3.0, m=29.0, s=10.43000000000049), dec=31d13m32.06s\n",
      "(B6) ra=hms_tuple(h=3.0, m=29.0, s=10.43000000000049), dec=31d13m32.07s\n",
      "(B3) ra=hms_tuple(h=3.0, m=29.0, s=10.43000000000049), dec=31d13m32.07s\n",
      "(B4) ra=hms_tuple(h=3.0, m=29.0, s=10.431000000001802), dec=31d13m32.04s\n"
     ]
    },
    {
     "data": {
      "image/png": "[encoded data removed]",
      "text/plain": [
       "<Figure size 432x432 with 1 Axes>"
      ]
     },
     "metadata": {
      "needs_background": "light"
     },
     "output_type": "display_data"
    }
   ],
   "source": [
    "#--------------------------------------- \n",
    "fig= plt.figure(figsize=(6, 6))\n",
    "ax = fig.add_axes([0.15,0.12,0.8,0.8]) \n",
    "\n",
    "print 'refit via CASA imregrid'\n",
    "\n",
    "for i, data in enumerate(Data_list):\n",
    "    ra = Coord_gaufit_4A2_refit[i].ra.hms\n",
    "    dec  = Coord_gaufit_4A2_refit[i].dec\n",
    "#     ax.plot((Coord_center_4A2.ra.deg - Coord_gaufit_4A2_refit[i].ra.deg)*3600,\\\n",
    "#             (Coord_gaufit_4A2_refit[i].dec.deg - Coord_center_4A2.dec.deg)*3600,\\\n",
    "#             'o', color = color_list[i],\\\n",
    "#             alpha=1, markersize=9, markeredgecolor='w', markeredgewidth=1,\\\n",
    "#             label=data+', '+str(Time_list[i])[0:10])\n",
    "    print '(%s) ra=%s, dec=%s'%(data, ra, dec)    \n",
    "    \n",
    "    ax.errorbar((Coord_center_4A2.ra.deg - Coord_gaufit_4A2_refit[i].ra.deg)*3600,\\\n",
    "                (Coord_gaufit_4A2_refit[i].dec.deg - Coord_center_4A2.dec.deg)*3600,\\\n",
    "                xerr=Position_err_4A2_list[i],\\\n",
    "                yerr=Position_err_4A2_list[i],\\\n",
    "                fmt='o', color = color_list[i],\\\n",
    "                alpha=1, markersize=9, markeredgecolor='w', markeredgewidth=1, capsize=3,\\\n",
    "                label=data+', '+str(Time_list[i])[0:10])\n",
    "\n",
    "ax.set_title('IRAS4A2', fontsize=14)\n",
    "ax.set_xlabel('RA [arcsec]', fontsize=14)\n",
    "ax.set_ylabel('Dec [arcsec]', fontsize=14)\n",
    "\n",
    "ax.set_xlim(-0.04, 0.08)\n",
    "ax.set_ylim(-0.04, 0.1)\n",
    "#plt.xlim(52.29348*3600,52.29343*3600)\n",
    "#plt.ylim(31.22555*3600,31.22560*3600)\n",
    "ax.tick_params(which='major', direction='in', length=8, width=2, labelsize=13, top=True, right=True)\n",
    "ax.tick_params(which='minor', direction='in', length=4, width=2, labelsize=13, top=True, right=True)\n",
    "\n",
    "# set the width of the axes\n",
    "ax.spines['top'].set_linewidth(2)\n",
    "ax.spines['bottom'].set_linewidth(2)\n",
    "ax.spines['left'].set_linewidth(2)\n",
    "ax.spines['right'].set_linewidth(2)\n",
    "ax.grid(color='silver', alpha=0.5)\n",
    "ax.legend()\n",
    "\n",
    "#plt.savefig('%s4A2_Prop.pdf'%(path_figure))\n",
    "plt.show()"
   ]
  },
  {
   "cell_type": "code",
   "execution_count": 34,
   "metadata": {},
   "outputs": [
    {
     "name": "stdout",
     "output_type": "stream",
     "text": [
      "refit via CASA imregrid\n",
      "(Q) ra=hms_tuple(h=3.0, m=29.0, s=10.43000000000049), dec=31d13m32.16s\n",
      "(K) ra=hms_tuple(h=3.0, m=29.0, s=10.428000000001276), dec=31d13m32.09s\n",
      "(K) ra=hms_tuple(h=3.0, m=29.0, s=10.429000000000883), dec=31d13m32.08s\n",
      "(Ka) ra=hms_tuple(h=3.0, m=29.0, s=10.428000000001276), dec=31d13m32.08s\n",
      "(B7) ra=hms_tuple(h=3.0, m=29.0, s=10.43000000000049), dec=31d13m32.06s\n",
      "(B6) ra=hms_tuple(h=3.0, m=29.0, s=10.43000000000049), dec=31d13m32.07s\n",
      "(B3) ra=hms_tuple(h=3.0, m=29.0, s=10.43000000000049), dec=31d13m32.07s\n",
      "(B4) ra=hms_tuple(h=3.0, m=29.0, s=10.431000000001802), dec=31d13m32.04s\n"
     ]
    },
    {
     "data": {
      "image/png": "[encoded data removed]",
      "text/plain": [
       "<Figure size 432x432 with 1 Axes>"
      ]
     },
     "metadata": {
      "needs_background": "light"
     },
     "output_type": "display_data"
    }
   ],
   "source": [
    "#--------------------------------------- \n",
    "fig= plt.figure(figsize=(6, 6))\n",
    "ax = fig.add_axes([0.15,0.12,0.8,0.8]) \n",
    "\n",
    "print 'refit via CASA imregrid'\n",
    "\n",
    "for i, data in enumerate(Data_list):\n",
    "    ra = Coord_gaufit_4A2_refit[i].ra.hms\n",
    "    dec  = Coord_gaufit_4A2_refit[i].dec\n",
    "    #time_ymd = Time_list[i]\n",
    "    #time_jd = float(time_ymd.jd)\n",
    "\n",
    "    print '(%s) ra=%s, dec=%s'%(data, ra, dec)    \n",
    "\n",
    "    ax.errorbar(x = Time_list[i].jd,\\\n",
    "                y = Coord_gaufit_4A2_refit[i].ra.deg*36e5,\\\n",
    "                yerr=Position_err_4A2_list[i]*1e3,\\\n",
    "                fmt='o', color = color_list[i],\\\n",
    "                alpha=1, markersize=9, markeredgecolor='w', markeredgewidth=1, capsize=3,\\\n",
    "                label=data+', '+str(Time_list[i])[0:10])\n",
    "\n",
    "ax.set_title('IRAS4A2', fontsize=14)\n",
    "ax.set_xlabel('Time [jd]', fontsize=14)\n",
    "ax.set_ylabel('RA [mas]', fontsize=14)\n",
    "\n",
    "#ax.set_xlim(-0.04, 0.08)\n",
    "#ax.set_ylim(-0.04, 0.1)\n",
    "#plt.xlim(52.29348*3600,52.29343*3600)\n",
    "#plt.ylim(31.22555*3600,31.22560*3600)\n",
    "ax.tick_params(which='major', direction='in', length=8, width=2, labelsize=13, top=True, right=True)\n",
    "ax.tick_params(which='minor', direction='in', length=4, width=2, labelsize=13, top=True, right=True)\n",
    "\n",
    "# set the width of the axes\n",
    "ax.spines['top'].set_linewidth(2)\n",
    "ax.spines['bottom'].set_linewidth(2)\n",
    "ax.spines['left'].set_linewidth(2)\n",
    "ax.spines['right'].set_linewidth(2)\n",
    "ax.grid(color='silver', alpha=0.5)\n",
    "ax.legend()\n",
    "\n",
    "#plt.savefig('%s4A2_Prop.pdf'%(path_figure))\n",
    "plt.show()"
   ]
  },
  {
   "cell_type": "code",
   "execution_count": 35,
   "metadata": {},
   "outputs": [
    {
     "name": "stdout",
     "output_type": "stream",
     "text": [
      "refit via CASA imregrid\n",
      "(Q) ra=hms_tuple(h=3.0, m=29.0, s=10.43000000000049), dec=31d13m32.16s\n",
      "(K) ra=hms_tuple(h=3.0, m=29.0, s=10.428000000001276), dec=31d13m32.09s\n",
      "(K) ra=hms_tuple(h=3.0, m=29.0, s=10.429000000000883), dec=31d13m32.08s\n",
      "(Ka) ra=hms_tuple(h=3.0, m=29.0, s=10.428000000001276), dec=31d13m32.08s\n",
      "(B7) ra=hms_tuple(h=3.0, m=29.0, s=10.43000000000049), dec=31d13m32.06s\n",
      "(B6) ra=hms_tuple(h=3.0, m=29.0, s=10.43000000000049), dec=31d13m32.07s\n",
      "(B3) ra=hms_tuple(h=3.0, m=29.0, s=10.43000000000049), dec=31d13m32.07s\n",
      "(B4) ra=hms_tuple(h=3.0, m=29.0, s=10.431000000001802), dec=31d13m32.04s\n"
     ]
    },
    {
     "data": {
      "image/png": "[encoded data removed]",
      "text/plain": [
       "<Figure size 432x432 with 1 Axes>"
      ]
     },
     "metadata": {
      "needs_background": "light"
     },
     "output_type": "display_data"
    }
   ],
   "source": [
    "#--------------------------------------- \n",
    "fig= plt.figure(figsize=(6, 6))\n",
    "ax = fig.add_axes([0.15,0.12,0.8,0.8]) \n",
    "\n",
    "print 'refit via CASA imregrid'\n",
    "\n",
    "for i, data in enumerate(Data_list):\n",
    "    ra = Coord_gaufit_4A2_refit[i].ra.hms\n",
    "    dec  = Coord_gaufit_4A2_refit[i].dec\n",
    "    time_ymd = Time_list[i]\n",
    "    time_jd = float(time_ymd.jd)\n",
    "\n",
    "    print '(%s) ra=%s, dec=%s'%(data, ra, dec)    \n",
    "\n",
    "    ax.errorbar(x = Time_list[i].jd,\\\n",
    "                y = Coord_gaufit_4A2_refit[i].dec.deg*36e5,\\\n",
    "                yerr=Position_err_4A2_list[i]*1e3,\\\n",
    "                fmt='o', color = color_list[i],\\\n",
    "                alpha=1, markersize=9, markeredgecolor='w', markeredgewidth=1, capsize=3,\\\n",
    "                label=data+', '+str(Time_list[i])[0:10])\n",
    "\n",
    "ax.set_title('IRAS4A2', fontsize=14)\n",
    "ax.set_xlabel('Time [jd]', fontsize=14)\n",
    "ax.set_ylabel('Dec [arcsec]', fontsize=14)\n",
    "\n",
    "#ax.set_xlim(-0.04, 0.08)\n",
    "#ax.set_ylim(-0.04, 0.1)\n",
    "#plt.xlim(52.29348*3600,52.29343*3600)\n",
    "#plt.ylim(31.22555*3600,31.22560*3600)\n",
    "ax.tick_params(which='major', direction='in', length=8, width=2, labelsize=13, top=True, right=True)\n",
    "ax.tick_params(which='minor', direction='in', length=4, width=2, labelsize=13, top=True, right=True)\n",
    "\n",
    "# set the width of the axes\n",
    "ax.spines['top'].set_linewidth(2)\n",
    "ax.spines['bottom'].set_linewidth(2)\n",
    "ax.spines['left'].set_linewidth(2)\n",
    "ax.spines['right'].set_linewidth(2)\n",
    "ax.grid(color='silver', alpha=0.5)\n",
    "ax.legend()\n",
    "\n",
    "#plt.savefig('%s4A2_Prop.pdf'%(path_figure))\n",
    "plt.show()"
   ]
  },
  {
   "cell_type": "code",
   "execution_count": null,
   "metadata": {},
   "outputs": [],
   "source": []
  }
 ],
 "metadata": {
  "kernelspec": {
   "display_name": "Python 2",
   "language": "python",
   "name": "python2"
  },
  "language_info": {
   "codemirror_mode": {
    "name": "ipython",
    "version": 2
   },
   "file_extension": ".py",
   "mimetype": "text/x-python",
   "name": "python",
   "nbconvert_exporter": "python",
   "pygments_lexer": "ipython2",
   "version": "2.7.15"
  }
 },
 "nbformat": 4,
 "nbformat_minor": 2
}
