{
 "cells": [
  {
   "cell_type": "code",
   "execution_count": 1,
   "metadata": {},
   "outputs": [],
   "source": [
    "import numpy as np\n",
    "from uncertainties import ufloat\n",
    "from uncertainties import unumpy\n",
    "\n",
    "from astropy.coordinates import SkyCoord\n",
    "from astropy import units as u\n",
    "from astropy.time import Time\n",
    "from astropy.wcs import WCS\n",
    "\n",
    "from sys import argv\n",
    "import warnings\n",
    "import time\n",
    "import os"
   ]
  },
  {
   "cell_type": "markdown",
   "metadata": {},
   "source": [
    "### Positions of NGC1333 IRAS4A2"
   ]
  },
  {
   "cell_type": "code",
   "execution_count": 2,
   "metadata": {},
   "outputs": [],
   "source": [
    "# Observational bands\n",
    "Band_arr = np.array(['Q', 'K', 'K', 'Ka', 'B7', 'B6', 'B3', 'B4'])\n",
    "\n",
    "# Observational time [year-month-day]\n",
    "Time_arr = np.array([Time('2014-10-13'),\\\n",
    "                     Time('2016-06-04'),\\\n",
    "                     Time('2016-08-06'),\\\n",
    "                     Time('2016-09-04'),\\\n",
    "                     Time('2016-09-06'),\\\n",
    "                     Time('2016-11-04'),\\\n",
    "                     Time('2017-08-17'),\\\n",
    "                     Time('2019-07-20'),\\\n",
    "                    ])\n",
    "\n",
    "# Coordinate of IRAS4A2 [RA:hms; Dec:dms]\n",
    "# hints: Gaussian fitting via CASA imfit\n",
    "Coord_4A2_arr = \\\n",
    "np.array([SkyCoord('03h29m10.430s', '+31d13m32.16s', frame='icrs'),\\\n",
    "          SkyCoord('03h29m10.428s', '+31d13m32.09s', frame='icrs'),\\\n",
    "          SkyCoord('03h29m10.429s', '+31d13m32.08s', frame='icrs'),\\\n",
    "          SkyCoord('03h29m10.428s', '+31d13m32.08s', frame='icrs'),\\\n",
    "          SkyCoord('03h29m10.430s', '+31d13m32.06s', frame='icrs'),\\\n",
    "          SkyCoord('03h29m10.430s', '+31d13m32.07s', frame='icrs'),\\\n",
    "          SkyCoord('03h29m10.430s', '+31d13m32.07s', frame='icrs'),\\\n",
    "          SkyCoord('03h29m10.431s', '+31d13m32.04s', frame='icrs'),\\\n",
    "         ])\n",
    "\n",
    "# Uncertainties of coordinate towards IRAS4A2 [arcsec]\n",
    "Coord_err_4A2_arr = \\\n",
    "np.array([39e-3,\\\n",
    "          25e-3,\\\n",
    "          24e-3,\\\n",
    "          20e-3,\\\n",
    "          50e-3,\\\n",
    "          19e-3,\\\n",
    "          13e-3,\\\n",
    "          3e-3,\\\n",
    "         ])"
   ]
  },
  {
   "cell_type": "markdown",
   "metadata": {},
   "source": [
    "### Save the information to the textfile"
   ]
  },
  {
   "cell_type": "code",
   "execution_count": 3,
   "metadata": {},
   "outputs": [
    {
     "name": "stdout",
     "output_type": "stream",
     "text": [
      "CPU times: user 20.3 ms, sys: 5.12 ms, total: 25.5 ms\n",
      "Wall time: 25.3 ms\n"
     ]
    }
   ],
   "source": [
    "%%time\n",
    "\n",
    "txt_lists = []\n",
    "for i, elm in enumerate(Band_arr):\n",
    "    \n",
    "    # Time\n",
    "    Time_ymd       = str(Time_arr[i]).split()[0]                 # Observationl Time [y-m-d]\n",
    "    Time_yr        = Time_arr[i].decimalyear                     # Observationl Time [year]\n",
    "    Time_jd        = Time_arr[i].jd                              # Observationl Time [Julian Day]\n",
    "    \n",
    "    # Coordinate System\n",
    "    radec_hmsdms   = Coord_4A2_arr[i].to_string('hmsdms')        # RA & Dec [hmsdms]\n",
    "    radec_err_arcs = Coord_err_4A2_arr[i]                        # Uncertainties of RA & Dec [arcsec]\n",
    "    radec_err_deg  = np.divide(Coord_err_4A2_arr[i], 3600)       # Uncertainties of RA & Dec [degree]\n",
    "    radec_dig_deg  = int((np.floor(np.log10(radec_err_deg))*-1)) # Significant digit of RA & Dec\n",
    "    \n",
    "    ra_hms         = str(radec_hmsdms).split()[0]                # Right Ascension [hms]\n",
    "    dec_dms        = str(radec_hmsdms).split()[1]                # Declination [dms]\n",
    "    ra_deg         = Coord_4A2_arr[i].ra.deg                     # Right Ascension [degree]\n",
    "    dec_deg        = Coord_4A2_arr[i].dec.deg                    # Declination [degree]\n",
    "    ra_dig_deg     = round(ra_deg, radec_dig_deg+1)              # Right Ascension with significant digit [degree]\n",
    "    dec_dig_deg    = round(dec_deg, radec_dig_deg+1)             # Declination with significant digit  [degree]\n",
    "   \n",
    "    # save the txt file   \n",
    "    txt_list = [i+1, elm, Time_ymd, Time_yr, Time_jd, ra_hms, dec_dms, ra_dig_deg, dec_dig_deg, ra_deg, dec_deg, radec_err_deg, '\\\\\\\\']\n",
    "    # print (txt_list)\n",
    "    txt_lists.append(txt_list)\n",
    "        \n",
    "    np.savetxt('Position_4A2.txt', txt_lists, fmt='%s', delimiter=' & ')"
   ]
  },
  {
   "cell_type": "code",
   "execution_count": null,
   "metadata": {},
   "outputs": [],
   "source": []
  }
 ],
 "metadata": {
  "kernelspec": {
   "display_name": "Python 3",
   "language": "python",
   "name": "python3"
  },
  "language_info": {
   "codemirror_mode": {
    "name": "ipython",
    "version": 3
   },
   "file_extension": ".py",
   "mimetype": "text/x-python",
   "name": "python",
   "nbconvert_exporter": "python",
   "pygments_lexer": "ipython3",
   "version": "3.7.3"
  }
 },
 "nbformat": 4,
 "nbformat_minor": 2
}
