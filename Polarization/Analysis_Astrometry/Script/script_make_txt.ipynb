{
 "cells": [
  {
   "cell_type": "code",
   "execution_count": 1,
   "metadata": {},
   "outputs": [],
   "source": [
    "import numpy as np\n",
    "from uncertainties import ufloat\n",
    "from uncertainties import unumpy\n",
    "\n",
    "import astropy.io.fits as pyfits\n",
    "from astropy.coordinates import SkyCoord\n",
    "from astropy import units as u\n",
    "from astropy.time import Time\n",
    "from astropy.wcs import WCS\n",
    "\n",
    "from sys import argv\n",
    "import warnings\n",
    "import time\n",
    "import os"
   ]
  },
  {
   "cell_type": "code",
   "execution_count": 2,
   "metadata": {},
   "outputs": [],
   "source": [
    "path_log  = '../File_Log_imfit/'\n",
    "path_data = '../Data_NoSelfcal/Data_NoSelfCal_Rg/'\n",
    "\n",
    "outnames_log = [\n",
    "                'iras4a2_Q_2014_10_13',\n",
    "                'iras4a2_K_2016_06_04',\n",
    "                'iras4a2_K_2016_08_06',\n",
    "                'iras4a2_Ka_2016_09_04',\n",
    "                'iras4a2_B7_2016_09_06',\n",
    "                'iras4a2_B6_2016_11_04',\n",
    "                'iras4a2_B3_2017_08_17',\n",
    "                'iras4a2_B4_2019_07_20'\n",
    "            ]\n",
    "\n",
    "outnames_fits = [\n",
    "                'n1333iras4a_Q_rob-2_uvAll_2014_10_13',\n",
    "                'n1333iras4a_K_rob-2_uvAll_2016_06_04',\n",
    "                'n1333iras4a_K_rob-2_uvAll_2016_08_06',\n",
    "                'n1333iras4a_Ka_rob-2_uvAll_2016_09_04',\n",
    "                'n1333iras4a_B7_rob-2_uvAll_2016_09_06',\n",
    "                'n1333iras4a_B6_rob-2_uvAll_2016_11_04',\n",
    "                'n1333iras4a_B3_rob-2_uvAll_2017_08_17',\n",
    "                'n1333iras4a_B4_rob-2_uvAll_2019_07_20'\n",
    "            ]"
   ]
  },
  {
   "cell_type": "markdown",
   "metadata": {},
   "source": [
    "### Positions of NGC1333 IRAS4A2 from the 2D gaussian fitting\n",
    "\n",
    "Hint: position inforamation is obtained from CASA imfit, run the following scripts first. \n",
    "- script_iras4a_rg2b4.py\n",
    "- script_iras4a_imfit.py"
   ]
  },
  {
   "cell_type": "code",
   "execution_count": 3,
   "metadata": {},
   "outputs": [],
   "source": [
    "# Obtain the coordinate information (Coord_4A2_arr)\n",
    "\n",
    "ra_gaufit_hms_list, ra_err_gaufit_sec_list, ra_err_gaufit_arcs_list = [], [], []\n",
    "dec_gaufit_dms_list, dec_err_gaufit_arcs_list = [], []\n",
    "Coord_4A2_list = []\n",
    "\n",
    "for i, outname_log in enumerate(outnames_log):\n",
    "\n",
    "    # Set the log filename\n",
    "    logName  = '%s%s.log'%(path_log, outname_log)\n",
    "\n",
    "    # read the log file\n",
    "    file  = open(logName,\"r+\") \n",
    "    lines = file.read().splitlines()\n",
    "    file.close()\n",
    "    \n",
    "    # save the ra & dec\n",
    "    ra_h        = lines[20].split()[2].split(':')[0]\n",
    "    ra_m        = lines[20].split()[2].split(':')[1]\n",
    "    ra_s        = lines[20].split()[2].split(':')[2]   \n",
    "    ra_hms      = ra_h + 'h' + ra_m + 'm' + ra_s + 's'\n",
    "    ra_err_sec  = lines[20].split()[4]\n",
    "    ra_err_arcs = lines[20].split()[6].split('(')[1]\n",
    "    \n",
    "    dec_d       = lines[21].split()[2].split('.', 2)[0]\n",
    "    dec_m       = lines[21].split()[2].split('.', 2)[1]\n",
    "    dec_s       = lines[21].split()[2].split('.', 2)[2]\n",
    "    dec_dms     = dec_d + 'd' + dec_m + 'm' + dec_s + 's'\n",
    "    dec_err_arcs = lines[21].split()[4]\n",
    "    \n",
    "    Coord_4A2 = SkyCoord(ra_hms, dec_dms, frame='icrs')\n",
    "    \n",
    "    # add to the list\n",
    "    ra_gaufit_hms_list.append(ra_hms)\n",
    "    ra_err_gaufit_sec_list.append(ra_err_sec)\n",
    "    ra_err_gaufit_arcs_list.append(ra_err_arcs)\n",
    "    dec_gaufit_dms_list.append(dec_dms)\n",
    "    dec_err_gaufit_arcs_list.append(dec_err_arcs)\n",
    "    Coord_4A2_list.append(Coord_4A2) \n",
    "     \n",
    "# convert list to array\n",
    "ra_gaufit_hms_arr       = np.array(ra_gaufit_hms_list)\n",
    "ra_err_gaufit_sec_arr   = np.array(ra_err_gaufit_sec_list).astype(np.float)\n",
    "ra_err_gaufit_arcs_arr  = np.array(ra_err_gaufit_arcs_list).astype(np.float)\n",
    "dec_gaufit_dms_arr      = np.array(dec_gaufit_dms_list)\n",
    "dec_err_gaufit_arcs_arr = np.array(dec_err_gaufit_arcs_list).astype(np.float)\n",
    "Coord_4A2_arr           = np.array(Coord_4A2_list)"
   ]
  },
  {
   "cell_type": "code",
   "execution_count": 4,
   "metadata": {},
   "outputs": [
    {
     "name": "stdout",
     "output_type": "stream",
     "text": [
      "[<SkyCoord (ICRS): (ra, dec) in deg\n",
      "    (52.29345667, 31.22559842)>\n",
      " <SkyCoord (ICRS): (ra, dec) in deg\n",
      "    (52.29344759, 31.22558165)>\n",
      " <SkyCoord (ICRS): (ra, dec) in deg\n",
      "    (52.29345217, 31.22557831)>\n",
      " <SkyCoord (ICRS): (ra, dec) in deg\n",
      "    (52.29345153, 31.22557847)>\n",
      " <SkyCoord (ICRS): (ra, dec) in deg\n",
      "    (52.29345869, 31.22557215)>\n",
      " <SkyCoord (ICRS): (ra, dec) in deg\n",
      "    (52.29345734, 31.22557471)>\n",
      " <SkyCoord (ICRS): (ra, dec) in deg\n",
      "    (52.29345824, 31.225573)>\n",
      " <SkyCoord (ICRS): (ra, dec) in deg\n",
      "    (52.29346182, 31.22556535)>] \n",
      "\n",
      "['03h29m10.42960s' '03h29m10.427422s' '03h29m10.428520s'\n",
      " '03h29m10.428368s' '03h29m10.430085s' '03h29m10.429762s'\n",
      " '03h29m10.429977s' '03h29m10.430836s'] \n",
      "\n",
      "['+031d13m32.15433s' '+031d13m32.093957s' '+031d13m32.081908s'\n",
      " '+031d13m32.082498s' '+031d13m32.059731s' '+031d13m32.068950s'\n",
      " '+031d13m32.062794s' '+031d13m32.035269s'] \n",
      "\n"
     ]
    }
   ],
   "source": [
    "# Coordinate of IRAS4A2 [RA:deg; Dec:deg]\n",
    "# hints: Gaussian fitting via CASA imfit\n",
    "print (Coord_4A2_arr, '\\n')\n",
    "print (ra_gaufit_hms_arr, '\\n')\n",
    "print (dec_gaufit_dms_arr, '\\n')"
   ]
  },
  {
   "cell_type": "markdown",
   "metadata": {},
   "source": [
    "### Observation time from the header "
   ]
  },
  {
   "cell_type": "code",
   "execution_count": 5,
   "metadata": {},
   "outputs": [],
   "source": [
    "# obtain the time information (Time_arr)\n",
    "\n",
    "Time_list = []\n",
    "\n",
    "for i, outname_fits in enumerate(outnames_fits):\n",
    "    \n",
    "    # Get the FITS and header\n",
    "    DataName  = '%s%s_I.image.fits'%(path_data, outname_fits)\n",
    "    I_hd      = pyfits.getheader(DataName)\n",
    "    \n",
    "    # Get the frequency, beam, and observation time information from header\n",
    "    hd_freq = float(I_hd['RESTFRQ'])\n",
    "    hd_bmaj = float(I_hd['BMAJ'])\n",
    "    hd_bmin = float(I_hd['BMIN'])\n",
    "    hd_bpa  = float(I_hd['BPA'])\n",
    "    hd_time = I_hd['DATE-OBS']\n",
    "    \n",
    "    Time_ymd = Time(hd_time.split('T')[0])\n",
    "    Time_list.append(Time_ymd)\n",
    "    \n",
    "# convert list to array    \n",
    "Time_arr = np.array(Time_list)"
   ]
  },
  {
   "cell_type": "code",
   "execution_count": 6,
   "metadata": {},
   "outputs": [
    {
     "name": "stdout",
     "output_type": "stream",
     "text": [
      "[<Time object: scale='utc' format='iso' value=2014-10-13 00:00:00.000>\n",
      " <Time object: scale='utc' format='iso' value=2016-06-04 00:00:00.000>\n",
      " <Time object: scale='utc' format='iso' value=2016-08-06 00:00:00.000>\n",
      " <Time object: scale='utc' format='iso' value=2016-09-04 00:00:00.000>\n",
      " <Time object: scale='utc' format='iso' value=2016-09-06 00:00:00.000>\n",
      " <Time object: scale='utc' format='iso' value=2016-11-04 00:00:00.000>\n",
      " <Time object: scale='utc' format='iso' value=2017-08-17 00:00:00.000>\n",
      " <Time object: scale='utc' format='iso' value=2019-07-20 00:00:00.000>]\n"
     ]
    }
   ],
   "source": [
    "print (Time_arr)"
   ]
  },
  {
   "cell_type": "code",
   "execution_count": 7,
   "metadata": {},
   "outputs": [],
   "source": [
    "# Observational bands\n",
    "Band_arr = np.array(['Q', 'K', 'K', 'Ka', 'B7', 'B6', 'B3', 'B4'])\n",
    "\n",
    "# Uncertainties of coordinate towards IRAS4A2 [arcsec]\n",
    "Coord_err_4A2_arr = \\\n",
    "np.array([39e-3,\\\n",
    "          25e-3,\\\n",
    "          24e-3,\\\n",
    "          20e-3,\\\n",
    "          50e-3,\\\n",
    "          19e-3,\\\n",
    "          13e-3,\\\n",
    "          3e-3,\\\n",
    "         ])"
   ]
  },
  {
   "cell_type": "markdown",
   "metadata": {},
   "source": [
    "### Save the information to the textfile"
   ]
  },
  {
   "cell_type": "code",
   "execution_count": 8,
   "metadata": {},
   "outputs": [
    {
     "name": "stdout",
     "output_type": "stream",
     "text": [
      "CPU times: user 21.7 ms, sys: 6.54 ms, total: 28.3 ms\n",
      "Wall time: 28.6 ms\n"
     ]
    }
   ],
   "source": [
    "%%time\n",
    "\n",
    "txt_lists = []\n",
    "for i, elm in enumerate(Band_arr):\n",
    "    \n",
    "    # Time\n",
    "    Time_ymd       = str(Time_arr[i]).split()[0]                 # Observationl Time [y-m-d]\n",
    "    Time_yr        = Time_arr[i].decimalyear                     # Observationl Time [year]\n",
    "    Time_jd        = Time_arr[i].jd                              # Observationl Time [Julian Day]\n",
    "    \n",
    "    # Coordinate System\n",
    "    radec_hmsdms   = Coord_4A2_arr[i].to_string('hmsdms')        # RA & Dec [hmsdms]\n",
    "    radec_err_arcs = Coord_err_4A2_arr[i]                        # Uncertainties of RA & Dec [arcsec]\n",
    "    radec_err_deg  = np.divide(Coord_err_4A2_arr[i], 3600)       # Uncertainties of RA & Dec [degree]\n",
    "    radec_dig_deg  = int((np.floor(np.log10(radec_err_deg))*-1)) # Significant digit of RA & Dec\n",
    "    \n",
    "    ra_hms         = str(radec_hmsdms).split()[0]                # Right Ascension [hms]\n",
    "    dec_dms        = str(radec_hmsdms).split()[1]                # Declination [dms]\n",
    "    ra_deg         = Coord_4A2_arr[i].ra.deg                     # Right Ascension [degree]\n",
    "    dec_deg        = Coord_4A2_arr[i].dec.deg                    # Declination [degree]\n",
    "    ra_dig_deg     = round(ra_deg, radec_dig_deg+1)              # Right Ascension with significant digit [degree]\n",
    "    dec_dig_deg    = round(dec_deg, radec_dig_deg+1)             # Declination with significant digit  [degree]\n",
    "   \n",
    "    # save the txt file   \n",
    "    txt_list = [i+1, elm, Time_ymd, Time_yr, Time_jd, ra_hms, dec_dms, ra_dig_deg, dec_dig_deg, ra_deg, dec_deg, radec_err_deg, '\\\\\\\\']\n",
    "    # print (txt_list)\n",
    "    txt_lists.append(txt_list)\n",
    "        \n",
    "    np.savetxt('Position_4A2.txt', txt_lists, fmt='%s', delimiter=' & ')"
   ]
  },
  {
   "cell_type": "code",
   "execution_count": null,
   "metadata": {},
   "outputs": [],
   "source": [
    "\n"
   ]
  }
 ],
 "metadata": {
  "kernelspec": {
   "display_name": "Python 3",
   "language": "python",
   "name": "python3"
  },
  "language_info": {
   "codemirror_mode": {
    "name": "ipython",
    "version": 3
   },
   "file_extension": ".py",
   "mimetype": "text/x-python",
   "name": "python",
   "nbconvert_exporter": "python",
   "pygments_lexer": "ipython3",
   "version": "3.7.3"
  }
 },
 "nbformat": 4,
 "nbformat_minor": 2
}
