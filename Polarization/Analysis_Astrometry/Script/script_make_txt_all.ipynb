{
 "cells": [
  {
   "cell_type": "code",
   "execution_count": 1,
   "metadata": {},
   "outputs": [],
   "source": [
    "import numpy as np\n",
    "from uncertainties import ufloat\n",
    "from uncertainties import unumpy\n",
    "\n",
    "import astropy.io.fits as pyfits\n",
    "from astropy.coordinates import SkyCoord\n",
    "from astropy import units as u\n",
    "from astropy.time import Time\n",
    "from astropy.wcs import WCS\n",
    "\n",
    "from sys import argv\n",
    "import warnings\n",
    "import time\n",
    "import os"
   ]
  },
  {
   "cell_type": "code",
   "execution_count": 2,
   "metadata": {},
   "outputs": [],
   "source": [
    "path_log_imfit   = '../File_Log_imfit/'\n",
    "path_log_imstat  = '../File_Log_imstat/'\n",
    "path_data        = '../Data_NoSelfcal/Data_NoSelfCal_Rg/'\n",
    "\n",
    "# Observational bands\n",
    "Band_arr     = np.array(['Ka', 'Ka', 'Q', 'B6', 'B6', 'K', 'B7', 'K', 'Ka', 'B7', 'B6', 'B7', 'B3', 'B6', 'B6', 'B4', 'B4'])\n",
    "\n",
    "outnames_log = [\n",
    "                'iras4a2_2013_10_21_Ka_Tobin',\n",
    "                'iras4a2_2014_02_24_Ka_Tobin',\n",
    "                'iras4a2_2014_10_13_Q_Liu',\n",
    "                'iras4a2_2015_06_13_B6_Sakai',\n",
    "                'iras4a2_2015_09_27_B6_Tobin',\n",
    "                'iras4a2_2016_06_04_K_Liu',\n",
    "                'iras4a2_2016_07_23_B7_Su',\n",
    "                'iras4a2_2016_08_06_K_Liu',\n",
    "                'iras4a2_2016_09_04_Ka_Liu',\n",
    "                'iras4a2_2016_09_06_B7_Lai',\n",
    "                'iras4a2_2016_11_04_B6_Tao',\n",
    "                'iras4a2_2016_12_14_B7_Su',\n",
    "                'iras4a2_2017_08_17_B3_Cox',\n",
    "                'iras4a2_2017_08_28_B6_Maury',\n",
    "                'iras4a2_2017_12_17_B6_Tobin',\n",
    "                'iras4a2_2018_10_16_B4_Francesco',\n",
    "                'iras4a2_2019_07_20_B4_Lai'\n",
    "                ]\n",
    "\n",
    "outnames_fits = [\n",
    "                'n1333iras4a_2013_10_21_Ka_Tobin',\n",
    "                'n1333iras4a_2014_02_24_Ka_Tobin',\n",
    "                'n1333iras4a_2014_10_13_Q_Liu',\n",
    "                'n1333iras4a_2015_06_13_B6_Sakai',\n",
    "                'n1333iras4a_2015_09_27_B6_Tobin',\n",
    "                'n1333iras4a_2016_06_04_K_Liu',\n",
    "                'n1333iras4a_2016_07_23_B7_Su',\n",
    "                'n1333iras4a_2016_08_06_K_Liu',\n",
    "                'n1333iras4a_2016_09_04_Ka_Liu',\n",
    "                'n1333iras4a_2016_09_06_B7_Lai',\n",
    "                'n1333iras4a_2016_11_04_B6_Tao',\n",
    "                'n1333iras4a_2016_12_14_B7_Su',\n",
    "                'n1333iras4a_2017_08_17_B3_Cox',\n",
    "                'n1333iras4a_2017_08_28_B6_Maury',\n",
    "                'n1333iras4a_2017_12_17_B6_Tobin',\n",
    "                'n1333iras4a_2018_10_16_B4_Francesco',\n",
    "                'n1333iras4a_2019_07_20_B4_Lai'\n",
    "                ]\n",
    "\n",
    "Coord_err_4A2_per = [\n",
    "                    10e-2, # 00: Ka, self-cal.           , not fit\n",
    "                    10e-2, # 01: Ka, self-cal.           , not fit\n",
    "                    10e-2, # 02: Q,                      , not fit\n",
    "                    5e-2,  # 03: B6, Cy1 --> 50 mas      , not fit\n",
    "                    5e-2,  # 04: B6, Cy1 --> 50 mas      , not fit\n",
    "                    10e-2, # 05: K\n",
    "                    5e-2,  # 06: B7, Cy3 --> 50 mas\n",
    "                    10e-2, # 07: K\n",
    "                    10e-2, # 08: Ka\n",
    "                    5e-2,  # 09: B7, Cy3 --> 50 mas\n",
    "                    5e-2,  # 10: B6, Cy4                 , not fit\n",
    "                    5e-2,  # 11: B7, Cy3 --> 50 mas      , not fit\n",
    "                    5e-2,  # 12: B3, Cy4\n",
    "                    5e-2,  # 13: B6, Cy4\n",
    "                    5e-2,  # 14: B6, Cy5\n",
    "                    5e-2,  # 15: B4, Cy6                 , not fit\n",
    "                    5e-2   # 16: B4, Cy6\n",
    "                    ]\n",
    "Coord_err_4A2_50mas = [3, 4, 6, 9, 11]         \n",
    "drop_list           = [0, 1, 2, 3, 4, 10, 11, 15] "
   ]
  },
  {
   "cell_type": "markdown",
   "metadata": {},
   "source": [
    "### Positions of NGC1333 IRAS4A2\n",
    "\n",
    "Hint: position inforamation is obtained from CASA imfit, run the following scripts first. \n",
    "- script_iras4a_rg2b4.py\n",
    "- script_iras4a_imfit.py\n",
    "- script_iras4a_imstat.py"
   ]
  },
  {
   "cell_type": "markdown",
   "metadata": {},
   "source": [
    "### (1) From the 2D gaussian fitting (CASA imfit task)"
   ]
  },
  {
   "cell_type": "code",
   "execution_count": 3,
   "metadata": {},
   "outputs": [],
   "source": [
    "# Obtain the coordinate information (Coord_4A2_arr)\n",
    "\n",
    "ra_gaufit_hms_list, ra_err_gaufit_sec_list, ra_err_gaufit_arcs_list = [], [], []\n",
    "dec_gaufit_dms_list, dec_err_gaufit_arcs_list = [], []\n",
    "Coord_4A2_list = []\n",
    "\n",
    "for i, outname_log in enumerate(outnames_log):\n",
    "\n",
    "    # Set the log filename\n",
    "    logName  = '%s%s.log'%(path_log_imfit, outname_log)\n",
    "\n",
    "    # read the log file\n",
    "    file  = open(logName,\"r+\") \n",
    "    lines = file.read().splitlines()\n",
    "    file.close()\n",
    "    \n",
    "    # save the ra & dec\n",
    "    ra_h        = lines[20].split()[2].split(':')[0]\n",
    "    ra_m        = lines[20].split()[2].split(':')[1]\n",
    "    ra_s        = lines[20].split()[2].split(':')[2]   \n",
    "    ra_hms      = ra_h + 'h' + ra_m + 'm' + ra_s + 's'\n",
    "    ra_err_sec  = lines[20].split()[4]\n",
    "    ra_err_arcs = lines[20].split()[6].split('(')[1]\n",
    "    \n",
    "    dec_d       = lines[21].split()[2].split('.', 2)[0]\n",
    "    dec_m       = lines[21].split()[2].split('.', 2)[1]\n",
    "    dec_s       = lines[21].split()[2].split('.', 2)[2]\n",
    "    dec_dms     = dec_d + 'd' + dec_m + 'm' + dec_s + 's'\n",
    "    dec_err_arcs = lines[21].split()[4]\n",
    "    \n",
    "    Coord_4A2 = SkyCoord(ra_hms, dec_dms, frame='icrs')\n",
    "    \n",
    "    # add to the list\n",
    "    ra_gaufit_hms_list.append(ra_hms)\n",
    "    ra_err_gaufit_sec_list.append(ra_err_sec)\n",
    "    ra_err_gaufit_arcs_list.append(ra_err_arcs)\n",
    "    dec_gaufit_dms_list.append(dec_dms)\n",
    "    dec_err_gaufit_arcs_list.append(dec_err_arcs)\n",
    "    Coord_4A2_list.append(Coord_4A2) \n",
    "     \n",
    "# convert list to array\n",
    "ra_gaufit_hms_arr       = np.array(ra_gaufit_hms_list)\n",
    "ra_err_gaufit_sec_arr   = np.array(ra_err_gaufit_sec_list).astype(np.float)\n",
    "ra_err_gaufit_arcs_arr  = np.array(ra_err_gaufit_arcs_list).astype(np.float)\n",
    "dec_gaufit_dms_arr      = np.array(dec_gaufit_dms_list)\n",
    "dec_err_gaufit_arcs_arr = np.array(dec_err_gaufit_arcs_list).astype(np.float)\n",
    "Coord_4A2_arr           = np.array(Coord_4A2_list)"
   ]
  },
  {
   "cell_type": "code",
   "execution_count": 4,
   "metadata": {},
   "outputs": [
    {
     "name": "stdout",
     "output_type": "stream",
     "text": [
      "['03h29m10.426788s' '03h29m10.426359s' '03h29m10.42960s'\n",
      " '03h29m10.431467s' '03h29m10.42496s' '03h29m10.427422s'\n",
      " '03h29m10.429116s' '03h29m10.428520s' '03h29m10.428368s'\n",
      " '03h29m10.430085s' '03h29m10.429762s' '03h29m10.431893s'\n",
      " '03h29m10.429977s' '03h29m10.430320s' '03h29m10.429432s'\n",
      " '03h29m10.43160s' '03h29m10.430836s'] \n",
      "\n",
      "['+031d13m32.114935s' '+031d13m32.103306s' '+031d13m32.15433s'\n",
      " '+031d13m32.116936s' '+031d13m32.17266s' '+031d13m32.093957s'\n",
      " '+031d13m32.060897s' '+031d13m32.081908s' '+031d13m32.082498s'\n",
      " '+031d13m32.059731s' '+031d13m32.068950s' '+031d13m32.101404s'\n",
      " '+031d13m32.062794s' '+031d13m32.059614s' '+031d13m32.060100s'\n",
      " '+031d13m32.08892s' '+031d13m32.035269s'] \n",
      "\n"
     ]
    }
   ],
   "source": [
    "# Coordinate of IRAS4A2 [RA:deg; Dec:deg]\n",
    "# hints: Gaussian fitting via CASA imfit\n",
    "# print (Coord_4A2_arr, '\\n')\n",
    "print (ra_gaufit_hms_arr, '\\n')\n",
    "print (dec_gaufit_dms_arr, '\\n')"
   ]
  },
  {
   "cell_type": "markdown",
   "metadata": {},
   "source": [
    "### (2) From the maximum pixel (CASA imstat task)"
   ]
  },
  {
   "cell_type": "code",
   "execution_count": 5,
   "metadata": {},
   "outputs": [],
   "source": [
    "# Obtain the coordinate information (Coord_4A2_arr)\n",
    "\n",
    "ra_maxpx_hms_list, dec_maxpx_dms_list = [], []\n",
    "Coord_4A2_maxpx_list = []\n",
    "\n",
    "for i, outname_log in enumerate(outnames_log):\n",
    " \n",
    "    # Set the log filename\n",
    "    logName  = '%s%s_imstat.log'%(path_log_imstat, outname_log)\n",
    "\n",
    "    # read the log file\n",
    "    file  = open(logName,\"r+\") \n",
    "    lines = file.read().splitlines()\n",
    "    file.close()\n",
    "    \n",
    "    \n",
    "    # save the ra & dec\n",
    "    ra_h        = lines[13].split()[8].split(',')[0].split(':')[0]\n",
    "    ra_m        = lines[13].split()[8].split(',')[0].split(':')[1]\n",
    "    ra_s        = lines[13].split()[8].split(',')[0].split(':')[2]\n",
    "    ra_hms      = ra_h + 'h' + ra_m + 'm' + ra_s + 's'\n",
    "    \n",
    "    dec_d       = lines[13].split()[9].split(',')[0].split('.', 2)[0]\n",
    "    dec_m       = lines[13].split()[9].split(',')[0].split('.', 2)[1]\n",
    "    dec_s       = lines[13].split()[9].split(',')[0].split('.', 2)[2]\n",
    "    dec_dms     = dec_d + 'd' + dec_m + 'm' + dec_s + 's'\n",
    "    \n",
    "    Coord_4A2_maxpx = SkyCoord(ra_hms, dec_dms, frame='icrs')\n",
    "    # maxpx_value     = lines[9].split()[5]\n",
    "    \n",
    "    # add to the list\n",
    "    ra_maxpx_hms_list.append(ra_hms)\n",
    "    dec_maxpx_dms_list.append(dec_dms)\n",
    "    Coord_4A2_maxpx_list.append(Coord_4A2_maxpx) \n",
    "     \n",
    "# convert list to array\n",
    "ra_maxpx_hms_arr       = np.array(ra_maxpx_hms_list)\n",
    "dec_maxpx_dms_arr      = np.array(dec_maxpx_dms_list)\n",
    "Coord_4A2_maxpx_arr    = np.array(Coord_4A2_maxpx_list)"
   ]
  },
  {
   "cell_type": "code",
   "execution_count": 6,
   "metadata": {},
   "outputs": [
    {
     "name": "stdout",
     "output_type": "stream",
     "text": [
      "['03h29m10.4267s' '03h29m10.4267s' '03h29m10.4298s' '03h29m10.4322s'\n",
      " '03h29m10.4244s' '03h29m10.4275s' '03h29m10.4283s' '03h29m10.4283s'\n",
      " '03h29m10.4283s' '03h29m10.4298s' '03h29m10.4298s' '03h29m10.4306s'\n",
      " '03h29m10.4298s' '03h29m10.4306s' '03h29m10.4290s' '03h29m10.4306s'\n",
      " '03h29m10.4306s'] \n",
      "\n",
      "['+31d13m32.1198s' '+31d13m32.0998s' '+31d13m32.1598s' '+31d13m32.1198s'\n",
      " '+31d13m32.1798s' '+31d13m32.0898s' '+31d13m32.0598s' '+31d13m32.0798s'\n",
      " '+31d13m32.0798s' '+31d13m32.0598s' '+31d13m32.0598s' '+31d13m32.1198s'\n",
      " '+31d13m32.0598s' '+31d13m32.0598s' '+31d13m32.0698s' '+31d13m32.0998s'\n",
      " '+31d13m32.0398s'] \n",
      "\n"
     ]
    }
   ],
   "source": [
    "# Coordinate of IRAS4A2 [RA:deg; Dec:deg]\n",
    "# hints: Maxmum pixel via CASA imstat\n",
    "# print (Coord_4A2_maxpx_arr, '\\n')\n",
    "print (ra_maxpx_hms_arr, '\\n')\n",
    "print (dec_maxpx_dms_arr, '\\n')"
   ]
  },
  {
   "cell_type": "markdown",
   "metadata": {},
   "source": [
    "### Observation time & position uncertainties from the header "
   ]
  },
  {
   "cell_type": "code",
   "execution_count": 7,
   "metadata": {},
   "outputs": [],
   "source": [
    "# obtain the time information (Time_arr)\n",
    "\n",
    "Time_list = []\n",
    "Coord_err_4A2_list = []\n",
    "\n",
    "for i, outname_fits in enumerate(outnames_fits):\n",
    "    \n",
    "    # Get the FITS and header\n",
    "    DataName  = '%s%s_I.image.fits'%(path_data, outname_fits)\n",
    "    I_hd      = pyfits.getheader(DataName)\n",
    "    \n",
    "    # Get the frequency, beam, and observation time information from header\n",
    "    hd_freq = float(I_hd['RESTFRQ'])  # [Hz]\n",
    "    hd_bmaj = float(I_hd['BMAJ'])     # [deg]\n",
    "    hd_bmin = float(I_hd['BMIN'])     # [deg]\n",
    "    hd_bpa  = float(I_hd['BPA'])      # [deg]\n",
    "    hd_time = I_hd['DATE-OBS']\n",
    "    \n",
    "    # Observation time\n",
    "    #Time_ymd = Time(hd_time.split('T')[0])\n",
    "    Time_ymdhms = Time(hd_time, format='isot', scale='utc')\n",
    "    Time_list.append(Time_ymdhms)\n",
    "    \n",
    "    # Uncertainties of coordinate towards IRAS4A2 [arcsec]\n",
    "    beam_maj_arcs     = hd_bmaj*3600\n",
    "    Coord_err_4A2     = beam_maj_arcs*Coord_err_4A2_per[i] if i not in Coord_err_4A2_50mas else 0.05\n",
    "    Coord_err_4A2     = float('%.3f' % Coord_err_4A2)\n",
    "    Coord_err_4A2_list.append(Coord_err_4A2)\n",
    "    \n",
    "# convert list to array    \n",
    "Time_arr          = np.array(Time_list)\n",
    "Coord_err_4A2_arr = np.array(Coord_err_4A2_list)"
   ]
  },
  {
   "cell_type": "code",
   "execution_count": 8,
   "metadata": {},
   "outputs": [
    {
     "name": "stdout",
     "output_type": "stream",
     "text": [
      "[<Time object: scale='utc' format='isot' value=2013-10-21T09:35:52.500>\n",
      " <Time object: scale='utc' format='isot' value=2014-02-24T03:05:43.500>\n",
      " <Time object: scale='utc' format='isot' value=2014-10-13T11:03:22.500>\n",
      " <Time object: scale='utc' format='isot' value=2015-06-13T15:41:32.688>\n",
      " <Time object: scale='utc' format='isot' value=2015-09-27T06:22:04.320>\n",
      " <Time object: scale='utc' format='isot' value=2016-06-04T14:00:13.500>\n",
      " <Time object: scale='utc' format='isot' value=2016-07-23T13:09:39.264>\n",
      " <Time object: scale='utc' format='isot' value=2016-08-06T14:57:10.500>\n",
      " <Time object: scale='utc' format='isot' value=2016-09-04T14:37:13.500>\n",
      " <Time object: scale='utc' format='isot' value=2016-09-06T07:54:16.512>\n",
      " <Time object: scale='utc' format='isot' value=2016-11-04T03:56:27.360>\n",
      " <Time object: scale='utc' format='isot' value=2016-12-14T02:46:23.664>\n",
      " <Time object: scale='utc' format='isot' value=2017-08-17T09:22:12.456>\n",
      " <Time object: scale='utc' format='isot' value=2017-08-28T10:12:45.120>\n",
      " <Time object: scale='utc' format='isot' value=2017-12-17T02:08:59.856>\n",
      " <Time object: scale='utc' format='isot' value=2018-10-16T06:17:35.856>\n",
      " <Time object: scale='utc' format='isot' value=2019-07-20T10:52:15.792>]\n"
     ]
    }
   ],
   "source": [
    "print (Time_arr)"
   ]
  },
  {
   "cell_type": "code",
   "execution_count": 9,
   "metadata": {},
   "outputs": [
    {
     "name": "stdout",
     "output_type": "stream",
     "text": [
      "[0.017 0.006 0.039 0.05  0.05  0.025 0.05  0.024 0.02  0.05  0.019 0.05\n",
      " 0.013 0.008 0.014 0.017 0.004]\n"
     ]
    }
   ],
   "source": [
    "print (Coord_err_4A2_arr)"
   ]
  },
  {
   "cell_type": "markdown",
   "metadata": {},
   "source": [
    "### Save the information to the textfile"
   ]
  },
  {
   "cell_type": "code",
   "execution_count": 10,
   "metadata": {},
   "outputs": [
    {
     "name": "stdout",
     "output_type": "stream",
     "text": [
      "CPU times: user 71.9 ms, sys: 13 ms, total: 84.9 ms\n",
      "Wall time: 121 ms\n"
     ]
    }
   ],
   "source": [
    "%%time\n",
    "\n",
    "txt_table_lists,  txt_lists= [], []\n",
    "for i, elm in enumerate(Band_arr):\n",
    "    \n",
    "    # Time\n",
    "    Time_ymdhms    = Time_arr[i].iso                             # Observationl Time [y-m-d h:m:s]\n",
    "    Time_ymdThms   = Time_arr[i].isot                            # Observationl Time [y-m-dTh:m:s]\n",
    "    Time_ymd       = Time_ymdhms.split()[0]                      # Observationl Time [y-m-d]\n",
    "    Time_yr        = Time_arr[i].decimalyear                     # Observationl Time [year]\n",
    "    Time_jd        = Time_arr[i].jd                              # Observationl Time [Julian Day]\n",
    "    \n",
    "    # Coordinate System (1) imfit\n",
    "    radec_hmsdms   = Coord_4A2_arr[i].to_string('hmsdms')        # RA & Dec [hmsdms]\n",
    "    radec_err_arcs = Coord_err_4A2_arr[i]                        # Uncertainties of RA & Dec [arcsec]\n",
    "    radec_err_deg  = np.divide(Coord_err_4A2_arr[i], 3600)       # Uncertainties of RA & Dec [degree]\n",
    "    radec_dig_deg  = int((np.floor(np.log10(radec_err_deg))*-1)) # Significant digit of RA & Dec\n",
    "    \n",
    "    ra_hms         = str(radec_hmsdms).split()[0]                # Right Ascension [hms]\n",
    "    dec_dms        = str(radec_hmsdms).split()[1]                # Declination [dms]\n",
    "    ra_deg         = Coord_4A2_arr[i].ra.deg                     # Right Ascension [degree]\n",
    "    dec_deg        = Coord_4A2_arr[i].dec.deg                    # Declination [degree]\n",
    "    ra_dig_deg     = round(ra_deg, radec_dig_deg+1)              # Right Ascension with significant digit [degree]\n",
    "    dec_dig_deg    = round(dec_deg, radec_dig_deg+1)             # Declination with significant digit  [degree]\n",
    "\n",
    "    # Coordinate System (2) imstat\n",
    "    radec_maxpx_hmsdms   = Coord_4A2_maxpx_arr[i].to_string('hmsdms')        # RA & Dec [hmsdms]\n",
    "    radec_maxpx_dig_deg  = int((np.floor(np.log10(radec_err_deg))*-1))       # Significant digit of RA & Dec\n",
    "    \n",
    "    ra_maxpx_hms         = str(radec_maxpx_hmsdms).split()[0]                # Right Ascension [hms]\n",
    "    dec_maxpx_dms        = str(radec_maxpx_hmsdms).split()[1]                # Declination [dms]\n",
    "    ra_maxpx_deg         = Coord_4A2_maxpx_arr[i].ra.deg                     # Right Ascension [degree]\n",
    "    dec_maxpx_deg        = Coord_4A2_maxpx_arr[i].dec.deg                    # Declination [degree]\n",
    "    ra_maxpx_dig_deg     = round(ra_maxpx_deg, radec_maxpx_dig_deg+1)        # Right Ascension with significant digit [degree]\n",
    "    dec_maxpx_dig_deg    = round(dec_maxpx_deg, radec_maxpx_dig_deg+1)       # Declination with significant digit  [degree]\n",
    "\n",
    "\n",
    "    \n",
    "\n",
    "    # (1) the table for putting on the paper\n",
    "    # save the txt file   \n",
    "    txt_table_list = [i+1, elm, Time_ymdhms, Time_yr, Time_jd, \\\n",
    "                      ra_hms, dec_dms, ra_dig_deg, dec_dig_deg, radec_err_deg, \\\n",
    "                      ra_maxpx_hms, dec_maxpx_dms, ra_maxpx_dig_deg, dec_maxpx_dig_deg, '\\\\\\\\']\n",
    "    # print (txt_list)\n",
    "    txt_table_lists.append(txt_table_list)\n",
    "    np.savetxt('Position_4A2_all_table.txt', txt_table_lists, fmt='%s', delimiter=' & ')\n",
    "    \n",
    "    \n",
    "    # (2) table for data analysis\n",
    "    # save the txt file   \n",
    "    txt_list = [i+1, elm, Time_ymdThms, Time_ymd, Time_yr, Time_jd, \\\n",
    "                ra_hms, dec_dms, ra_dig_deg, dec_dig_deg, ra_deg, dec_deg, radec_err_deg, \\\n",
    "                ra_maxpx_hms, dec_maxpx_dms, ra_maxpx_dig_deg, dec_maxpx_dig_deg, ra_maxpx_deg, dec_maxpx_deg]\n",
    "    # print (txt_list)\n",
    "    txt_lists.append(txt_list)\n",
    "        \n",
    "    np.savetxt('Position_4A2_all.txt', txt_lists, fmt='%s')"
   ]
  },
  {
   "cell_type": "code",
   "execution_count": null,
   "metadata": {},
   "outputs": [],
   "source": []
  }
 ],
 "metadata": {
  "kernelspec": {
   "display_name": "Python 3",
   "language": "python",
   "name": "python3"
  },
  "language_info": {
   "codemirror_mode": {
    "name": "ipython",
    "version": 3
   },
   "file_extension": ".py",
   "mimetype": "text/x-python",
   "name": "python",
   "nbconvert_exporter": "python",
   "pygments_lexer": "ipython3",
   "version": "3.7.3"
  }
 },
 "nbformat": 4,
 "nbformat_minor": 2
}
