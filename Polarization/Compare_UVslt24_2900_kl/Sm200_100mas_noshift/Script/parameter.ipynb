{
 "cells": [
  {
   "cell_type": "code",
   "execution_count": 14,
   "metadata": {},
   "outputs": [
    {
     "name": "stderr",
     "output_type": "stream",
     "text": [
      "/usr/local/lib/python2.7/site-packages/matplotlib/cbook/deprecation.py:107: MatplotlibDeprecationWarning: The mpl_toolkits.axes_grid module was deprecated in version 2.1. Use mpl_toolkits.axes_grid1 and mpl_toolkits.axisartist provies the same functionality instead.\n",
      "  warnings.warn(message, mplDeprecation, stacklevel=1)\n"
     ]
    }
   ],
   "source": [
    "import numpy as np\n",
    "import aplpy\n",
    "import matplotlib.pyplot as plt\n",
    "from matplotlib import rc, rcParams, style\n",
    "from matplotlib.ticker import (MultipleLocator, FormatStrFormatter, AutoMinorLocator)\n",
    "import astropy.io.fits as pyfits\n",
    "from astropy import units as u\n",
    "import pyregion\n",
    "from astropy.wcs import WCS\n",
    "from sys import argv\n",
    "import time\n",
    "import os\n",
    "import copy\n",
    "import warnings"
   ]
  },
  {
   "cell_type": "code",
   "execution_count": 3,
   "metadata": {},
   "outputs": [],
   "source": [
    "# parameter"
   ]
  },
  {
   "cell_type": "code",
   "execution_count": 4,
   "metadata": {},
   "outputs": [],
   "source": [
    "#---------------------------------------\n",
    "# set the path for the forder\n",
    "path_image='../Data_images/'\n",
    "path_BT = '../BT_images/'\n",
    "path_figure = '../Plot_figures/'\n",
    "path_samping = '../Nyquist_sampling/'"
   ]
  },
  {
   "cell_type": "code",
   "execution_count": 60,
   "metadata": {},
   "outputs": [],
   "source": [
    "#---------------------------------------\n",
    "# set the outname\n",
    "outname_b4       = 'n1333iras4a_B4_uv24_2900kl_sm200_100mas_noshift'\n",
    "outname_b7       = 'n1333iras4a_B7_uv24_2900kl_sm200_100mas_noshift'\n",
    "outname_mask     = 'n1333iras4a_B7_uv24_2900kl_sm200_100mas_noshift_mask_I'\n",
    "outname_mask_4A1 = 'n1333iras4a_B7_uv24_2900kl_sm200_100mas_noshift_mask_4A1_I'\n",
    "outname_mask_4A2 = 'n1333iras4a_B7_uv24_2900kl_sm200_100mas_noshift_mask_4A2_I'\n",
    "\n",
    "#---------------------------------------\n",
    "# set the output filename\n",
    "BT_B4            = '%s%s_BT.fits'%(path_BT, outname_b4)\n",
    "BT_B7            = '%s%s_BT.fits'%(path_BT, outname_b7)\n",
    "BT_slt_image     = '%s%s_BT.fits'%(path_BT, outname_b4)\n",
    "BT_div_image     = '%sBT_B4_div_BT_B7.fits'%(path_BT)\n",
    "Mask_image       = '%s%s.image.fits'%(path_image, outname_mask)\n",
    "Mask_4A1_image   = '%s%s.image.fits'%(path_image, outname_mask_4A1)\n",
    "Mask_4A2_image   = '%s%s.image.fits'%(path_image, outname_mask_4A2)"
   ]
  },
  {
   "cell_type": "code",
   "execution_count": 62,
   "metadata": {},
   "outputs": [],
   "source": [
    "# get the header\n",
    "outname = outname_b4\n",
    "I_image = '%s%s_I.image.fits'%(path_image, outname)\n",
    "I_data = pyfits.getdata(I_image)\n",
    "I_hd = pyfits.getheader(I_image)\n",
    "\n",
    "# get the parameter from the header\n",
    "hd_freq = I_hd['RESTFRQ']           # frequency [Hz]\n",
    "hd_bmaj = I_hd['BMAJ']              # [deg]\n",
    "hd_bmin = I_hd['BMIN']              # [deg]\n",
    "hd_bpa = I_hd['BPA']                # [deg]\n",
    "\n",
    "hd_cell = np.abs(I_hd['CDELT1'])    # cell size [deg]\n",
    "hd_ra = I_hd['CRVAL1']              # ra [deg]\n",
    "hd_dec = I_hd['CRVAL2']             # dec [deg]\n",
    "hd_date = I_hd['DATE']              # date [y-m-dTh:m:s]\n",
    "hd_pixelNum = I_hd['NAXIS1']        # pixel number per axis [pixel]\n",
    "\n",
    "# calculate the sampling number\n",
    "sampling = np.divide(hd_bmin, hd_cell*2)\n",
    "sampling_int = np.around(sampling)\n",
    "\n",
    "# print the results\n",
    "#print sampling_int"
   ]
  },
  {
   "cell_type": "code",
   "execution_count": 63,
   "metadata": {},
   "outputs": [],
   "source": [
    "#---------------------------------------\n",
    "# set the \n",
    "dist = 293 # [pc]\n",
    "sampling_all = 10\n",
    "\n",
    "ra_4A1 = 52.2939125\n",
    "dec_4A1 = 31.2252611\n",
    "ra_4A2 = 52.2934625\n",
    "dec_4A2 = 31.2255806\n",
    "ra_4A1_4A2 = 52.2937125\n",
    "dec_4A1_4A2 = 31.2255431\n"
   ]
  },
  {
   "cell_type": "code",
   "execution_count": 12,
   "metadata": {},
   "outputs": [],
   "source": [
    "#---------------------------------------\n",
    "# set the rms and criteria\n",
    "# ALMA Band 4\n",
    "rms_I_b4       = 2.3e-4              #(Jy beam-1)\n",
    "rms_Q_b4       = 1.2e-5              #(Jy beam-1)\n",
    "rms_PI_b4      = 1.2e-5              #(Jy beam-1)\n",
    "I_clip_b4      = 3*rms_I_b4          #(Jy beam-1)\n",
    "PI_lowclip_b4  = 3*rms_PI_b4         #(Jy beam-1)\n",
    "PI_highclip_b4 = 1e99*rms_PI_b4      #(Jy beam-1)\n",
    "sampling_b4    = sampling_all\n",
    "# (0.26/0.02)/2 = 6.5\n",
    "\n",
    "\n",
    "# ALMA Band 7\n",
    "rms_I_b7       = 6.4e-4              #(Jy beam-1)\n",
    "rms_Q_b7       = 4.2e-5              #(Jy beam-1)\n",
    "rms_PI_b7      = 4.2e-5              #(Jy beam-1)\n",
    "I_clip_b7      = 3*rms_I_b7          #(Jy beam-1)\n",
    "PI_lowclip_b7  = 3*rms_PI_b7         #(Jy beam-1)\n",
    "PI_highclip_b7 = 1e99*rms_PI_b7      #(Jy beam-1)\n",
    "sampling_b7    = sampling_all\n",
    "# (0.19/0.02)/2 = 4.75"
   ]
  },
  {
   "cell_type": "code",
   "execution_count": 61,
   "metadata": {},
   "outputs": [
    {
     "data": {
      "text/plain": [
       "'\\nprint hd_freq\\nprint hd_bmaj, hd_bmin, hd_bpa\\nprint hd_bmin*3600\\nprint hd_cell*3600\\nsampling = np.divide(hd_bmin, hd_cell*2)\\nsampling_int = np.around(sampling)\\nprint sampling\\nprint sampling_int\\nprint hd_pixelNum\\nprint hd_ra, hd_dec\\nprint hd_date\\n'"
      ]
     },
     "execution_count": 61,
     "metadata": {},
     "output_type": "execute_result"
    }
   ],
   "source": [
    "'''\n",
    "print hd_freq\n",
    "print hd_bmaj, hd_bmin, hd_bpa\n",
    "print hd_bmin*3600\n",
    "print hd_cell*3600\n",
    "sampling = np.divide(hd_bmin, hd_cell*2)\n",
    "sampling_int = np.around(sampling)\n",
    "print sampling\n",
    "print sampling_int\n",
    "print hd_pixelNum\n",
    "print hd_ra, hd_dec\n",
    "print hd_date\n",
    "'''"
   ]
  },
  {
   "cell_type": "code",
   "execution_count": null,
   "metadata": {},
   "outputs": [],
   "source": []
  }
 ],
 "metadata": {
  "kernelspec": {
   "display_name": "Python 2",
   "language": "python",
   "name": "python2"
  },
  "language_info": {
   "codemirror_mode": {
    "name": "ipython",
    "version": 2
   },
   "file_extension": ".py",
   "mimetype": "text/x-python",
   "name": "python",
   "nbconvert_exporter": "python",
   "pygments_lexer": "ipython2",
   "version": "2.7.15"
  }
 },
 "nbformat": 4,
 "nbformat_minor": 2
}
