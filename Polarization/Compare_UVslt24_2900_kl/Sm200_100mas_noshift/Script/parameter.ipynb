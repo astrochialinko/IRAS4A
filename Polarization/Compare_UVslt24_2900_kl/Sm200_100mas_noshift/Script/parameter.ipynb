{
 "cells": [
  {
   "cell_type": "code",
   "execution_count": 14,
   "metadata": {},
   "outputs": [
    {
     "name": "stderr",
     "output_type": "stream",
     "text": [
      "/usr/local/lib/python2.7/site-packages/matplotlib/cbook/deprecation.py:107: MatplotlibDeprecationWarning: The mpl_toolkits.axes_grid module was deprecated in version 2.1. Use mpl_toolkits.axes_grid1 and mpl_toolkits.axisartist provies the same functionality instead.\n",
      "  warnings.warn(message, mplDeprecation, stacklevel=1)\n"
     ]
    }
   ],
   "source": [
    "import numpy as np\n",
    "import aplpy\n",
    "import matplotlib.pyplot as plt\n",
    "from matplotlib import rc, rcParams, style\n",
    "from matplotlib.ticker import (MultipleLocator, FormatStrFormatter, AutoMinorLocator)\n",
    "import astropy.io.fits as pyfits\n",
    "from astropy import units as u\n",
    "import pyregion\n",
    "from astropy.wcs import WCS\n",
    "from sys import argv\n",
    "import time\n",
    "import os\n",
    "import copy\n",
    "import warnings"
   ]
  },
  {
   "cell_type": "code",
   "execution_count": 3,
   "metadata": {},
   "outputs": [],
   "source": [
    "# parameter"
   ]
  },
  {
   "cell_type": "code",
   "execution_count": 4,
   "metadata": {},
   "outputs": [],
   "source": [
    "#---------------------------------------\n",
    "# set the path for the forder\n",
    "path_image='../Image_Data/'\n",
    "path_BT = '../Image_BT/'\n",
    "path_samping = '../Table_Data/'\n",
    "path_figure = '../Plot_Figure/'\n",
    "path_region = '../Plot_Region/'"
   ]
  },
  {
   "cell_type": "code",
   "execution_count": 67,
   "metadata": {},
   "outputs": [],
   "source": [
    "#---------------------------------------\n",
    "# set the outname\n",
    "outname_b4       = 'n1333iras4a_B4_uv24_2900kl_sm200_100mas_noshift'\n",
    "outname_b7       = 'n1333iras4a_B7_uv24_2900kl_sm200_100mas_noshift'\n",
    "outname_mask     = 'n1333iras4a_B7_uv24_2900kl_sm200_100mas_noshift_mask_I'\n",
    "outname_mask_4A1 = 'n1333iras4a_B7_uv24_2900kl_sm200_100mas_noshift_mask_4A1_I'\n",
    "outname_mask_4A2 = 'n1333iras4a_B7_uv24_2900kl_sm200_100mas_noshift_mask_4A2_I'\n",
    "\n",
    "#---------------------------------------\n",
    "# set the output filename\n",
    "def slt_imageName(outname):\n",
    "    I_imageName          = '%s%s_I.image.fits'%(path_image, outname)\n",
    "    Q_imageName          = '%s%s_Q.image.fits'%(path_image, outname)\n",
    "    U_imageName          = '%s%s_U.image.fits'%(path_image, outname)\n",
    "    PI_imageName         = '%s%s_PI.image.fits'%(path_image, outname)\n",
    "    PI_cut3PI_imageName  = '%s%s_PI_cut3PI.image.fits'%(path_image, outname)\n",
    "    PA_imageName         = '%s%s_PA.image.fits'%(path_image, outname)\n",
    "    Per_imageName        = '%s%s_Per.image.fits'%(path_image, outname)\n",
    "    Per_cut3PI_imageName = '%s%s_Per_cut3PI.image.fits'%(path_image, outname)\n",
    "    BT_imageName         = '%s%s_BT.fits'%(path_BT, outname) \n",
    "    \n",
    "    return I_imageName, Q_imageName, U_imageName, PI_imageName, PI_cut3PI_imageName,\\\n",
    "            PA_imageName, Per_imageName, Per_cut3PI_imageName, BT_imageName\n",
    "    \n",
    "\n",
    "BT_B4_imageName      = '%s%s_BT.fits'%(path_BT, outname_b4)\n",
    "BT_B7_imageName      = '%s%s_BT.fits'%(path_BT, outname_b7)\n",
    "BT_slt_imageName     = '%s%s_BT.fits'%(path_BT, outname_b4)\n",
    "BT_div_imageName     = '%sBT_B4_div_BT_B7.fits'%(path_BT)\n",
    "Mask_imageName       = '%s%s.image.fits'%(path_image, outname_mask)\n",
    "Mask_4A1_imageName   = '%s%s.image.fits'%(path_image, outname_mask_4A1)\n",
    "Mask_4A2_imageName   = '%s%s.image.fits'%(path_image, outname_mask_4A2)\n",
    "\n",
    "#----\n",
    "BT_B4            = '%s%s_BT.fits'%(path_BT, outname_b4)\n",
    "BT_B7            = '%s%s_BT.fits'%(path_BT, outname_b7)\n",
    "BT_slt_image     = '%s%s_BT.fits'%(path_BT, outname_b4)\n",
    "BT_div_image     = '%sBT_B4_div_BT_B7.fits'%(path_BT)\n",
    "Mask_image       = '%s%s.image.fits'%(path_image, outname_mask)\n",
    "Mask_4A1_image   = '%s%s.image.fits'%(path_image, outname_mask_4A1)\n",
    "Mask_4A2_image   = '%s%s.image.fits'%(path_image, outname_mask_4A2)"
   ]
  },
  {
   "cell_type": "code",
   "execution_count": 63,
   "metadata": {},
   "outputs": [],
   "source": [
    "#---------------------------------------\n",
    "# set the \n",
    "dist = 293 # [pc]\n",
    "sampling_all = 10\n",
    "\n",
    "ra_4A1 = 52.2939125\n",
    "dec_4A1 = 31.2252611\n",
    "ra_4A2 = 52.2934625\n",
    "dec_4A2 = 31.2255806\n",
    "ra_4A1_4A2 = 52.2937125\n",
    "dec_4A1_4A2 = 31.2255431"
   ]
  },
  {
   "cell_type": "code",
   "execution_count": 12,
   "metadata": {},
   "outputs": [],
   "source": [
    "#---------------------------------------\n",
    "# set the rms and criteria\n",
    "# ALMA Band 4\n",
    "rms_I_b4       = 2.3e-4              #(Jy beam-1)\n",
    "rms_Q_b4       = 1.2e-5              #(Jy beam-1)\n",
    "rms_PI_b4      = 1.2e-5              #(Jy beam-1)\n",
    "I_clip_b4      = 3*rms_I_b4          #(Jy beam-1)\n",
    "PI_lowclip_b4  = 3*rms_PI_b4         #(Jy beam-1)\n",
    "PI_highclip_b4 = 1e99*rms_PI_b4      #(Jy beam-1)\n",
    "sampling_b4    = sampling_all\n",
    "PI_vmax_b4     = 2.849e-3            #(Jy beam-1)\n",
    "convert_unit_b4 = 'Jy2mJy'\n",
    "\n",
    "# ALMA Band 7\n",
    "rms_I_b7       = 6.4e-4              #(Jy beam-1)\n",
    "rms_Q_b7       = 4.2e-5              #(Jy beam-1)\n",
    "rms_PI_b7      = 4.2e-5              #(Jy beam-1)\n",
    "I_clip_b7      = 3*rms_I_b7          #(Jy beam-1)\n",
    "PI_lowclip_b7  = 3*rms_PI_b7         #(Jy beam-1)\n",
    "PI_highclip_b7 = 1e99*rms_PI_b7      #(Jy beam-1)\n",
    "sampling_b7    = sampling_all\n",
    "PI_vmax_b7     = 1.005e-2            #(Jy beam-1)\n",
    "convert_unit_b7 = 'Jy2mJy'\n",
    "\n",
    "# function for select parameter\n",
    "def slt_parm(outname):\n",
    "    \n",
    "    if outname == outname_b4:\n",
    "        rms_I=rms_I_b4\n",
    "        rms_Q=rms_Q_b4\n",
    "        rms_PI=rms_PI_b4\n",
    "        I_clip=I_clip_b4\n",
    "        PI_lowclip=PI_lowclip_b4\n",
    "        PI_highclip=PI_highclip_b4\n",
    "        sampling=sampling_b4\n",
    "        PI_vmax=PI_vmax_b4\n",
    "        convert_unit=convert_unit_b4\n",
    "    elif outname == outname_b7:\n",
    "        rms_I=rms_I_b7\n",
    "        rms_Q=rms_Q_b7\n",
    "        rms_PI=rms_PI_b7\n",
    "        I_clip=I_clip_b7\n",
    "        PI_lowclip=PI_lowclip_b7\n",
    "        PI_highclip=PI_highclip_b7\n",
    "        sampling=sampling_b7\n",
    "        PI_vmax=PI_vmax_b7\n",
    "        convert_unit=convert_unit_b7\n",
    "        \n",
    "    return rms_I, rms_Q, rms_PI, I_clip, PI_lowclip, PI_highclip, \\\n",
    "            sampling, PI_vmax, convert_unit"
   ]
  },
  {
   "cell_type": "code",
   "execution_count": null,
   "metadata": {},
   "outputs": [],
   "source": [
    "# ALMA Band 4\n",
    "scale_10percent_b4  = 0.1e-2\n",
    "scale_line_b4       = 0.006\n",
    "seg_color_b4        = 'blue'\n",
    "seg_width_b4        = 2\n",
    "seg_color_base_b4   = 'white'\n",
    "seg_width_base_b4   = 3\n",
    "    \n",
    "# ALMA Band 7\n",
    "scale_10percent_b7  = 0.1e-2\n",
    "scale_line_b7       = 0.008\n",
    "seg_color_b7        = 'black'\n",
    "seg_width_b7        = 4\n",
    "seg_color_base_b7   = 'white'\n",
    "seg_width_base_b7   = 5\n",
    "\n",
    "# function for select parameter\n",
    "def slt_seg(outname):\n",
    "    if outname == outname_b4:\n",
    "        scale_10percent=scale_10percent_b4\n",
    "        scale_line=scale_line_b4\n",
    "        seg_color=seg_color_b4\n",
    "        seg_width=seg_width_b4\n",
    "        seg_color_base=seg_color_base_b4\n",
    "        seg_width_base=seg_width_base_b4\n",
    "    elif outname == outname_b7:\n",
    "        scale_10percent=scale_10percent_b7\n",
    "        scale_line=scale_line_b7\n",
    "        seg_color=seg_color_b7\n",
    "        seg_width=seg_width_b7\n",
    "        seg_color_base=seg_color_base_b7\n",
    "        seg_width_base=seg_width_base_b7\n",
    "        \n",
    "    return scale_10percent, scale_line, seg_color, seg_width, \\\n",
    "            seg_color_base, seg_width_base"
   ]
  },
  {
   "cell_type": "code",
   "execution_count": 62,
   "metadata": {},
   "outputs": [],
   "source": [
    "# get the header\n",
    "outname = outname_b4\n",
    "I_image = '%s%s_I.image.fits'%(path_image, outname)\n",
    "I_data = pyfits.getdata(I_image)\n",
    "I_hd = pyfits.getheader(I_image)\n",
    "\n",
    "# get the parameter from the header\n",
    "hd_freq = I_hd['RESTFRQ']           # frequency [Hz]\n",
    "hd_bmaj = I_hd['BMAJ']              # [deg]\n",
    "hd_bmin = I_hd['BMIN']              # [deg]\n",
    "hd_bpa = I_hd['BPA']                # [deg]\n",
    "\n",
    "hd_cell = np.abs(I_hd['CDELT1'])    # cell size [deg]\n",
    "hd_ra = I_hd['CRVAL1']              # ra [deg]\n",
    "hd_dec = I_hd['CRVAL2']             # dec [deg]\n",
    "hd_date = I_hd['DATE']              # date [y-m-dTh:m:s]\n",
    "hd_pixelNum = I_hd['NAXIS1']        # pixel number per axis [pixel]\n",
    "\n",
    "# calculate the sampling number\n",
    "sampling = np.divide(hd_bmin, hd_cell*2)\n",
    "sampling_int = np.around(sampling)\n",
    "\n",
    "# print the results\n",
    "#print sampling_int"
   ]
  },
  {
   "cell_type": "code",
   "execution_count": 61,
   "metadata": {},
   "outputs": [
    {
     "data": {
      "text/plain": [
       "'\\nprint hd_freq\\nprint hd_bmaj, hd_bmin, hd_bpa\\nprint hd_bmin*3600\\nprint hd_cell*3600\\nsampling = np.divide(hd_bmin, hd_cell*2)\\nsampling_int = np.around(sampling)\\nprint sampling\\nprint sampling_int\\nprint hd_pixelNum\\nprint hd_ra, hd_dec\\nprint hd_date\\n'"
      ]
     },
     "execution_count": 61,
     "metadata": {},
     "output_type": "execute_result"
    }
   ],
   "source": [
    "'''\n",
    "print hd_freq\n",
    "print hd_bmaj, hd_bmin, hd_bpa\n",
    "print hd_bmin*3600\n",
    "print hd_cell*3600\n",
    "sampling = np.divide(hd_bmin, hd_cell*2)\n",
    "sampling_int = np.around(sampling)\n",
    "print sampling\n",
    "print sampling_int\n",
    "print hd_pixelNum\n",
    "print hd_ra, hd_dec\n",
    "print hd_date\n",
    "'''"
   ]
  },
  {
   "cell_type": "code",
   "execution_count": null,
   "metadata": {},
   "outputs": [],
   "source": []
  }
 ],
 "metadata": {
  "kernelspec": {
   "display_name": "Python 2",
   "language": "python",
   "name": "python2"
  },
  "language_info": {
   "codemirror_mode": {
    "name": "ipython",
    "version": 2
   },
   "file_extension": ".py",
   "mimetype": "text/x-python",
   "name": "python",
   "nbconvert_exporter": "python",
   "pygments_lexer": "ipython2",
   "version": "2.7.15"
  }
 },
 "nbformat": 4,
 "nbformat_minor": 2
}
