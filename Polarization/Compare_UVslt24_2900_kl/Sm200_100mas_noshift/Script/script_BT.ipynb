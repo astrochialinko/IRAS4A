{
 "cells": [
  {
   "cell_type": "code",
   "execution_count": 15,
   "metadata": {},
   "outputs": [],
   "source": [
    "import numpy as np\n",
    "import aplpy\n",
    "import matplotlib.pyplot as plt\n",
    "from matplotlib import rc, rcParams, style\n",
    "from matplotlib.ticker import (MultipleLocator, FormatStrFormatter, AutoMinorLocator)\n",
    "import astropy.io.fits as pyfits\n",
    "from astropy import units as u\n",
    "import pyregion\n",
    "from astropy.wcs import WCS\n",
    "from sys import argv\n",
    "import time\n",
    "import os\n",
    "import copy\n",
    "import warnings"
   ]
  },
  {
   "cell_type": "code",
   "execution_count": 16,
   "metadata": {},
   "outputs": [],
   "source": [
    "#----------------------------------------\n",
    "# define functions\n",
    "#----------------------------------------\n",
    "def brightness_T(I, bmaj, bmin, freq):\n",
    "    '''\n",
    "    Calculate the Brightness Teperature (K)\n",
    "    '''\n",
    "    I_mJy_beam = I*1000.    # (mJy/beam)\n",
    "    bmaj_arcs = bmaj*3600.  # (arcsec)\n",
    "    bmin_arcs = bmin*3600.  # (arcsec)\n",
    "    freq_GHz = np.divide(freq,1e9)   # (GHz)\n",
    "    return 1.222e3*np.divide( I_mJy_beam, np.power(freq_GHz,2)*bmaj_arcs*bmin_arcs )"
   ]
  },
  {
   "cell_type": "code",
   "execution_count": 17,
   "metadata": {},
   "outputs": [
    {
     "name": "stdout",
     "output_type": "stream",
     "text": [
      "10.0\n",
      "1.38e+11\n",
      "5.55555558269e-05 2.77777768219e-05 8.07838836272e-07\n",
      "0.099999996559\n",
      "0.0050000000000004\n",
      "9.9999996558976\n",
      "10.0\n",
      "3001\n",
      "52.2936458333 31.2254166667\n",
      "2020-03-27T12:13:00.832346\n"
     ]
    }
   ],
   "source": [
    "#---------------------------------------\n",
    "# Input some parameters from parameter.ipynb\n",
    "#---------------------------------------\n",
    "%run parameter.ipynb\n",
    "\n",
    "#---------------------------------------\n",
    "# Input parameters used in this program:\n",
    "\n",
    "###-----------\n",
    "# Path name\n",
    "# path_image, path_BT\n",
    "\n",
    "###-----------\n",
    "# Path name\n",
    "# outname_b4,  outname_b7\n",
    "\n",
    "###-----------\n",
    "# criteria and rms for the imaging\n",
    "# I_clip_b4, I_clip_b7 [Jy beam-1]"
   ]
  },
  {
   "cell_type": "code",
   "execution_count": 18,
   "metadata": {},
   "outputs": [
    {
     "name": "stdout",
     "output_type": "stream",
     "text": [
      "B4_uv2 frequency (GHz) = 138.0\n",
      "B4_uv2 beam (arcs,arcs,deg)= 0.200000000977,0.099999996559,8.07838836272e-07\n",
      "B7_uv2 frequency (GHz) = 336.5\n",
      "B7_uv2 beam (arcs,arcs,deg)= 0.200000000408,0.0999999950905,-2.98451570302e-06\n",
      "#----------------------------------------\n",
      "('Done! Time spending = ', 0.6391370296478271, 'seconds.')\n"
     ]
    }
   ],
   "source": [
    "########################################################\n",
    "# Main code\n",
    "########################################################\n",
    "if __name__ == \"__main__\":\n",
    "    # Star measure time\n",
    "    start_time = time.time()\n",
    "    \n",
    "    #---------------------------------------\n",
    "    #set some parameters\n",
    "    outnames = [\n",
    "                 outname_b4, outname_b7\n",
    "                ]\n",
    "    \n",
    "    I_clips = [\n",
    "                I_clip_b4, I_clip_b7\n",
    "            ]\n",
    "\n",
    "    i=-1\n",
    "    for outname in outnames:\n",
    "        i+=1\n",
    "        I_image = '%s%s_I.image.fits'%(path_image, outname)\n",
    "\n",
    "        # Get the cube and header\n",
    "        I_data = pyfits.getdata(I_image)\n",
    "        I_hd = pyfits.getheader(I_image)\n",
    "\n",
    "        # Get the frequency and beam information from header\n",
    "        hd_freq = float(I_hd['RESTFRQ'])\n",
    "        hd_bmaj = float(I_hd['BMAJ'])\n",
    "        hd_bmin = float(I_hd['BMIN'])\n",
    "        hd_bpa = float(I_hd['BPA'])\n",
    "        print (\"{0} frequency (GHz) = {1}\".format(outname[12:18], hd_freq/1e9))\n",
    "        print (\"{0} beam (arcs,arcs,deg)= {1},{2},{3}\".format(outname[12:18], hd_bmaj*3600.,hd_bmin*3600.,hd_bpa))\n",
    "\n",
    "        # Calculate brightness temperature\n",
    "        BT = brightness_T(I_data, hd_bmaj, hd_bmin, hd_freq)\n",
    "        BT[I_data<I_clips[i]] = np.nan\n",
    "        pyfits.writeto('%s%s_BT.fits'%(path_BT, outname), BT, I_hd, overwrite=True)\n",
    "\n",
    "    # End measure time\n",
    "    elapsed_time = time.time() - start_time\n",
    "    print ('#----------------------------------------')\n",
    "    print (\"Done! Time spending = \", elapsed_time, \"seconds.\")"
   ]
  },
  {
   "cell_type": "code",
   "execution_count": null,
   "metadata": {},
   "outputs": [],
   "source": []
  },
  {
   "cell_type": "code",
   "execution_count": null,
   "metadata": {},
   "outputs": [],
   "source": []
  }
 ],
 "metadata": {
  "kernelspec": {
   "display_name": "Python 3",
   "language": "python",
   "name": "python3"
  },
  "language_info": {
   "codemirror_mode": {
    "name": "ipython",
    "version": 2
   },
   "file_extension": ".py",
   "mimetype": "text/x-python",
   "name": "python",
   "nbconvert_exporter": "python",
   "pygments_lexer": "ipython2",
   "version": "2.7.15"
  }
 },
 "nbformat": 4,
 "nbformat_minor": 2
}
