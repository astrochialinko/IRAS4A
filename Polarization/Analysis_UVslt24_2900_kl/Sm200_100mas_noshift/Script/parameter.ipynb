{
 "cells": [
  {
   "cell_type": "code",
   "execution_count": 1,
   "metadata": {},
   "outputs": [],
   "source": [
    "import numpy as np\n",
    "\n",
    "import astropy.io.fits as pyfits\n",
    "from astropy.wcs import WCS\n",
    "from astropy.coordinates import SkyCoord\n",
    "from astropy.time import Time\n",
    "from astropy import units as u\n",
    "\n",
    "from sys import argv\n",
    "import time\n",
    "import os\n",
    "import copy\n",
    "import warnings"
   ]
  },
  {
   "cell_type": "code",
   "execution_count": 2,
   "metadata": {},
   "outputs": [],
   "source": [
    "#---------------------------------------\n",
    "# set the path for the forder\n",
    "path_image='../Image_Data/'\n",
    "path_BT = '../Image_BT/'\n",
    "path_samping = '../Table_Data/'\n",
    "path_figure = '../Plot_Figure/'\n",
    "path_region = '../Plot_Region/'"
   ]
  },
  {
   "cell_type": "code",
   "execution_count": 3,
   "metadata": {},
   "outputs": [],
   "source": [
    "#---------------------------------------\n",
    "# set the outname\n",
    "outname_b4       = 'n1333iras4a_B4_uv24_2900kl_sm200_100mas_noshift'\n",
    "outname_b7       = 'n1333iras4a_B7_uv24_2900kl_sm200_100mas_noshift'\n",
    "outname_mask     = 'n1333iras4a_B7_uv24_2900kl_sm200_100mas_noshift_mask_I'\n",
    "outname_mask_4A1 = 'n1333iras4a_B7_uv24_2900kl_sm200_100mas_noshift_mask_4A1_I'\n",
    "outname_mask_4A2 = 'n1333iras4a_B7_uv24_2900kl_sm200_100mas_noshift_mask_4A2_I'\n",
    "\n",
    "#---------------------------------------\n",
    "# set the output filename\n",
    "def slt_imageName(outname):\n",
    "    I_imageName          = '%s%s_I.image.fits'%(path_image, outname)\n",
    "    Q_imageName          = '%s%s_Q.image.fits'%(path_image, outname)\n",
    "    U_imageName          = '%s%s_U.image.fits'%(path_image, outname)\n",
    "    PI_imageName         = '%s%s_PI.image.fits'%(path_image, outname)\n",
    "    PI_cut3PI_imageName  = '%s%s_PI_cut3PI.image.fits'%(path_image, outname)\n",
    "    PA_imageName         = '%s%s_PA.image.fits'%(path_image, outname)\n",
    "    Per_imageName        = '%s%s_Per.image.fits'%(path_image, outname)\n",
    "    Per_cut3PI_imageName = '%s%s_Per_cut3PI.image.fits'%(path_image, outname)\n",
    "    BT_imageName         = '%s%s_BT.fits'%(path_BT, outname) \n",
    "    \n",
    "    return I_imageName, Q_imageName, U_imageName, PI_imageName, PI_cut3PI_imageName,\\\n",
    "            PA_imageName, Per_imageName, Per_cut3PI_imageName, BT_imageName\n",
    "    \n",
    "\n",
    "BT_B4_imageName      = '%s%s_BT.fits'%(path_BT, outname_b4)\n",
    "BT_B7_imageName      = '%s%s_BT.fits'%(path_BT, outname_b7)\n",
    "BT_slt_imageName     = '%s%s_BT.fits'%(path_BT, outname_b4)\n",
    "BT_div_imageName     = '%sBT_B4_div_BT_B7.fits'%(path_BT)\n",
    "Mask_imageName       = '%s%s.image.fits'%(path_image, outname_mask)\n",
    "Mask_4A1_imageName   = '%s%s.image.fits'%(path_image, outname_mask_4A1)\n",
    "Mask_4A2_imageName   = '%s%s.image.fits'%(path_image, outname_mask_4A2)\n",
    "\n",
    "#----\n",
    "BT_B4            = '%s%s_BT.fits'%(path_BT, outname_b4)\n",
    "BT_B7            = '%s%s_BT.fits'%(path_BT, outname_b7)\n",
    "BT_slt_image     = '%s%s_BT.fits'%(path_BT, outname_b4)\n",
    "BT_div_image     = '%sBT_B4_div_BT_B7.fits'%(path_BT)\n",
    "Mask_image       = '%s%s.image.fits'%(path_image, outname_mask)\n",
    "Mask_4A1_image   = '%s%s.image.fits'%(path_image, outname_mask_4A1)\n",
    "Mask_4A2_image   = '%s%s.image.fits'%(path_image, outname_mask_4A2)"
   ]
  },
  {
   "cell_type": "code",
   "execution_count": 4,
   "metadata": {},
   "outputs": [],
   "source": [
    "#---------------------------------------\n",
    "# set the \n",
    "dist = 293 # [pc]\n",
    "sampling_all = 10\n",
    "\n",
    "ra_4A1 = 52.2939125        # RA  [deg], central of 4A1\n",
    "dec_4A1 = 31.2252611       # Dec [deg], central of 4A1\n",
    "ra_4A2 = 52.2934625        # RA  [deg], central of 4A2\n",
    "dec_4A2 = 31.2255806       # Dec [deg], central of 4A2\n",
    "ra_4A1_4A2 = 52.2937125    # RA  [deg], central of 4A\n",
    "dec_4A1_4A2 = 31.2255431   # Dec [deg], central of 4A\n",
    "\n",
    "Coord_4A = SkyCoord('03h29m10.498s', '+31d13m31.293s', frame='icrs')\n",
    "Coord_4A1 = SkyCoord('03h29m10.538s', '+31d13m30.890s', frame='icrs')\n",
    "Coord_4A2 = SkyCoord('03h29m10.431s', '+31d13m32.04s', frame='icrs')\n",
    "\n"
   ]
  },
  {
   "cell_type": "code",
   "execution_count": 5,
   "metadata": {},
   "outputs": [],
   "source": [
    "#---------------------------------------\n",
    "# set the rms and criteria\n",
    "# ALMA Band 4\n",
    "rms_I_b4       = 1.0e-4              #(Jy beam-1)\n",
    "rms_Q_b4       = 1.2e-5              #(Jy beam-1)\n",
    "rms_PI_b4      = 1.2e-5              #(Jy beam-1)\n",
    "I_clip_b4      = 3*rms_I_b4          #(Jy beam-1)\n",
    "PI_lowclip_b4  = 3*rms_PI_b4         #(Jy beam-1)\n",
    "PI_highclip_b4 = 1e99*rms_PI_b4      #(Jy beam-1)\n",
    "sampling_b4    = sampling_all\n",
    "PI_vmax_b4     = 2.849e-3            #(Jy beam-1)\n",
    "convert_unit_b4 = 'Jy2mJy'\n",
    "\n",
    "# ALMA Band 7\n",
    "rms_I_b7       = 4.5e-4              #(Jy beam-1)\n",
    "rms_Q_b7       = 3.0e-5              #(Jy beam-1)\n",
    "rms_PI_b7      = 3.0e-5              #(Jy beam-1)\n",
    "I_clip_b7      = 3*rms_I_b7          #(Jy beam-1)\n",
    "PI_lowclip_b7  = 3*rms_PI_b7         #(Jy beam-1)\n",
    "PI_highclip_b7 = 1e99*rms_PI_b7      #(Jy beam-1)\n",
    "sampling_b7    = sampling_all\n",
    "PI_vmax_b7     = 1.005e-2            #(Jy beam-1)\n",
    "convert_unit_b7 = 'Jy2mJy'\n",
    "\n",
    "# function for select parameter\n",
    "def slt_parm(outname):\n",
    "    \n",
    "    if outname == outname_b4:\n",
    "        rms_I=rms_I_b4\n",
    "        rms_Q=rms_Q_b4\n",
    "        rms_PI=rms_PI_b4\n",
    "        I_clip=I_clip_b4\n",
    "        PI_lowclip=PI_lowclip_b4\n",
    "        PI_highclip=PI_highclip_b4\n",
    "        sampling=sampling_b4\n",
    "        PI_vmax=PI_vmax_b4\n",
    "        convert_unit=convert_unit_b4\n",
    "    elif outname == outname_b7:\n",
    "        rms_I=rms_I_b7\n",
    "        rms_Q=rms_Q_b7\n",
    "        rms_PI=rms_PI_b7\n",
    "        I_clip=I_clip_b7\n",
    "        PI_lowclip=PI_lowclip_b7\n",
    "        PI_highclip=PI_highclip_b7\n",
    "        sampling=sampling_b7\n",
    "        PI_vmax=PI_vmax_b7\n",
    "        convert_unit=convert_unit_b7\n",
    "        \n",
    "    return rms_I, rms_Q, rms_PI, I_clip, PI_lowclip, PI_highclip, \\\n",
    "            sampling, PI_vmax, convert_unit"
   ]
  },
  {
   "cell_type": "code",
   "execution_count": 6,
   "metadata": {},
   "outputs": [],
   "source": [
    "# ALMA Band 4\n",
    "scale_10percent_b4  = 0.1e-2\n",
    "scale_line_b4       = 0.006\n",
    "seg_color_b4        = 'blue'\n",
    "seg_width_b4        = 2\n",
    "seg_color_base_b4   = 'white'\n",
    "seg_width_base_b4   = 3\n",
    "    \n",
    "# ALMA Band 7\n",
    "scale_10percent_b7  = 0.1e-2\n",
    "scale_line_b7       = 0.008\n",
    "seg_color_b7        = 'black'\n",
    "seg_width_b7        = 4\n",
    "seg_color_base_b7   = 'white'\n",
    "seg_width_base_b7   = 5\n",
    "\n",
    "# function for select parameter\n",
    "def slt_seg(outname):\n",
    "    if outname == outname_b4:\n",
    "        scale_10percent=scale_10percent_b4\n",
    "        scale_line=scale_line_b4\n",
    "        seg_color=seg_color_b4\n",
    "        seg_width=seg_width_b4\n",
    "        seg_color_base=seg_color_base_b4\n",
    "        seg_width_base=seg_width_base_b4\n",
    "    elif outname == outname_b7:\n",
    "        scale_10percent=scale_10percent_b7\n",
    "        scale_line=scale_line_b7\n",
    "        seg_color=seg_color_b7\n",
    "        seg_width=seg_width_b7\n",
    "        seg_color_base=seg_color_base_b7\n",
    "        seg_width_base=seg_width_base_b7\n",
    "        \n",
    "    return scale_10percent, scale_line, seg_color, seg_width, \\\n",
    "            seg_color_base, seg_width_base"
   ]
  },
  {
   "cell_type": "code",
   "execution_count": 7,
   "metadata": {},
   "outputs": [],
   "source": [
    "def slt_plotName(outname, reg_parm):\n",
    "    \n",
    "    output_E_reg_name = '%s%s_%s_E_PA.reg'%(path_region, outname, reg_parm)\n",
    "    output_E_reg_base_name = '%s%s_%s_E_PA_base.reg'%(path_region, outname, reg_parm)\n",
    "    output_B_reg_name = '%s%s_%s_B_PA.reg'%(path_region, outname, reg_parm)\n",
    "    output_B_reg_base_name = '%s%s_%s_B_PA_base.reg'%(path_region, outname, reg_parm)\n",
    "    \n",
    "    return output_E_reg_name, output_E_reg_base_name, \\\n",
    "            output_B_reg_name, output_B_reg_base_name\n",
    "    "
   ]
  },
  {
   "cell_type": "code",
   "execution_count": 8,
   "metadata": {},
   "outputs": [],
   "source": [
    "# convert the unit from milliarcsecond to radius\n",
    "def mas2rad(u_mas):\n",
    "    return np.deg2rad(np.divide(u_mas, 36e5))\n",
    "\n",
    "# convert the unit from milliarcsecond to deg\n",
    "def mas2dec(u_mas):\n",
    "    return np.divide(u_mas, 36e5)\n",
    "\n",
    "# convert the unit from deg to milliarcsecond\n",
    "def deg2mas(u_deg):\n",
    "    return u_deg*36e5"
   ]
  },
  {
   "cell_type": "code",
   "execution_count": 9,
   "metadata": {},
   "outputs": [],
   "source": [
    "# get the header\n",
    "outname = outname_b4\n",
    "I_image = '%s%s_I.image.fits'%(path_image, outname)\n",
    "I_data = pyfits.getdata(I_image)\n",
    "I_hd = pyfits.getheader(I_image)\n",
    "\n",
    "# get the parameter from the header\n",
    "hd_freq = I_hd['RESTFRQ']           # frequency [Hz]\n",
    "hd_bmaj = I_hd['BMAJ']              # [deg]\n",
    "hd_bmin = I_hd['BMIN']              # [deg]\n",
    "hd_bpa = I_hd['BPA']                # [deg]\n",
    "\n",
    "hd_cell = np.abs(I_hd['CDELT1'])    # cell size [deg]\n",
    "hd_ra = I_hd['CRVAL1']              # ra [deg]\n",
    "hd_dec = I_hd['CRVAL2']             # dec [deg]\n",
    "hd_date = I_hd['DATE']              # date [y-m-dTh:m:s]\n",
    "hd_pixelNum = I_hd['NAXIS1']        # pixel number per axis [pixel]\n",
    "hd_unit = I_hd['BUNIT']\n",
    "\n",
    "# calculate the sampling number\n",
    "sampling = np.divide(hd_bmin, hd_cell*2)\n",
    "sampling_int = np.around(sampling)\n",
    "\n",
    "# print the results\n",
    "#print sampling_int\n",
    "\n",
    "#print hd_unit"
   ]
  },
  {
   "cell_type": "code",
   "execution_count": 10,
   "metadata": {},
   "outputs": [],
   "source": [
    "# print I_image\n",
    "# im_unit = pyfits.getval(I_image, 'BUNIT')\n",
    "# print im_unit\n",
    "\n",
    "# pyfits.setval(I_image, 'BUNIT', value = 'Jy/beam')\n",
    "\n",
    "# im_unit = pyfits.getval(I_image, 'BUNIT')\n",
    "# print im_unit"
   ]
  },
  {
   "cell_type": "code",
   "execution_count": 11,
   "metadata": {},
   "outputs": [
    {
     "data": {
      "text/plain": [
       "'\\nprint hd_freq\\nprint hd_bmaj, hd_bmin, hd_bpa\\nprint hd_bmin*3600\\nprint hd_cell*3600\\nsampling = np.divide(hd_bmin, hd_cell*2)\\nsampling_int = np.around(sampling)\\nprint sampling\\nprint sampling_int\\nprint hd_pixelNum\\nprint hd_ra, hd_dec\\nprint hd_date\\n'"
      ]
     },
     "execution_count": 11,
     "metadata": {},
     "output_type": "execute_result"
    }
   ],
   "source": [
    "'''\n",
    "print hd_freq\n",
    "print hd_bmaj, hd_bmin, hd_bpa\n",
    "print hd_bmin*3600\n",
    "print hd_cell*3600\n",
    "sampling = np.divide(hd_bmin, hd_cell*2)\n",
    "sampling_int = np.around(sampling)\n",
    "print sampling\n",
    "print sampling_int\n",
    "print hd_pixelNum\n",
    "print hd_ra, hd_dec\n",
    "print hd_date\n",
    "'''"
   ]
  },
  {
   "cell_type": "code",
   "execution_count": 12,
   "metadata": {},
   "outputs": [],
   "source": [
    "Coord_4A = SkyCoord('03h29m10.498s', '+31d13m31.293s', frame='icrs')\n",
    "Coord_4A1 = SkyCoord('03h29m10.538s', '+31d13m30.890s', frame='icrs')\n",
    "Coord_4A2 = SkyCoord('03h29m10.431s', '+31d13m32.04s', frame='icrs')\n",
    "Coord_4A_ra_deg = Coord_4A.ra.deg\n",
    "Coord_4A_dec_deg = Coord_4A.dec.deg\n",
    "Coord_4A1_ra_deg = Coord_4A1.ra.deg\n",
    "Coord_4A1_dec_deg = Coord_4A1.dec.deg\n",
    "Coord_4A2_ra_deg = Coord_4A2.ra.deg\n",
    "Coord_4A2_dec_deg = Coord_4A2.dec.deg"
   ]
  },
  {
   "cell_type": "code",
   "execution_count": 13,
   "metadata": {},
   "outputs": [
    {
     "data": {
      "text/plain": [
       "'\\n# Choose colormap\\ncmap = plt.cm.gist_rainbow_r\\n# Get the colormap colors\\nmy_cmap = cmap(np.arange(cmap.N))\\n# Set alpha\\nmy_cmap[:,-1] = np.linspace(0.8, 0.3, cmap.N)\\n# Create new colormap\\nmy_cmap = ListedColormap(my_cmap)\\n'"
      ]
     },
     "execution_count": 13,
     "metadata": {},
     "output_type": "execute_result"
    }
   ],
   "source": [
    "'''\n",
    "# Choose colormap\n",
    "cmap = plt.cm.gist_rainbow_r\n",
    "# Get the colormap colors\n",
    "my_cmap = cmap(np.arange(cmap.N))\n",
    "# Set alpha\n",
    "my_cmap[:,-1] = np.linspace(0.8, 0.3, cmap.N)\n",
    "# Create new colormap\n",
    "my_cmap = ListedColormap(my_cmap)\n",
    "'''"
   ]
  },
  {
   "cell_type": "code",
   "execution_count": null,
   "metadata": {},
   "outputs": [],
   "source": []
  }
 ],
 "metadata": {
  "kernelspec": {
   "display_name": "Python 2",
   "language": "python",
   "name": "python2"
  },
  "language_info": {
   "codemirror_mode": {
    "name": "ipython",
    "version": 2
   },
   "file_extension": ".py",
   "mimetype": "text/x-python",
   "name": "python",
   "nbconvert_exporter": "python",
   "pygments_lexer": "ipython2",
   "version": "2.7.15"
  }
 },
 "nbformat": 4,
 "nbformat_minor": 2
}
