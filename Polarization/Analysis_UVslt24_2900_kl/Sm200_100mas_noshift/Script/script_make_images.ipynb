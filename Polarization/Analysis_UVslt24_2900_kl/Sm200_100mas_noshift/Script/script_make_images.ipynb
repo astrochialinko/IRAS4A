{
 "cells": [
  {
   "cell_type": "code",
   "execution_count": 1,
   "metadata": {},
   "outputs": [
    {
     "name": "stderr",
     "output_type": "stream",
     "text": [
      "/usr/local/lib/python3.7/site-packages/mpl_toolkits/axes_grid/__init__.py:12: MatplotlibDeprecationWarning: \n",
      "The mpl_toolkits.axes_grid module was deprecated in Matplotlib 2.1 and will be removed two minor releases later. Use mpl_toolkits.axes_grid1 and mpl_toolkits.axisartist provies the same functionality instead.\n",
      "  obj_type='module')\n"
     ]
    }
   ],
   "source": [
    "import numpy as np\n",
    "import astropy.io.fits as pyfits\n",
    "from astropy.wcs import WCS\n",
    "from astropy.coordinates import SkyCoord\n",
    "\n",
    "import aplpy\n",
    "import matplotlib.pyplot as plt\n",
    "from matplotlib import rc, rcParams, style\n",
    "from matplotlib.colors import ListedColormap\n",
    "\n",
    "from sys import argv\n",
    "import warnings\n",
    "import time\n",
    "import os"
   ]
  },
  {
   "cell_type": "code",
   "execution_count": 2,
   "metadata": {},
   "outputs": [],
   "source": [
    "#---------------------------------------\n",
    "# Input some parameters from parameter.ipynb\n",
    "#---------------------------------------\n",
    "%run parameter.ipynb\n",
    "\n",
    "\n",
    "#---------------------------------------\n",
    "# Input parameters used in this program:\n",
    "\n",
    "###-------------------------------------\n",
    "### Path name & outname & imageName\n",
    "# path_image, path_BT, path_figure, path_samping, path_region\n",
    "# outname_b4,  outname_b7\n",
    "# BT_B4, BT_B7\n"
   ]
  },
  {
   "cell_type": "code",
   "execution_count": 3,
   "metadata": {},
   "outputs": [],
   "source": [
    "#----------------------------------------\n",
    "# define the functions\n",
    "#----------------------------------------\n",
    "\n",
    "def do_convert_unit(filename_in, filename_out, convert_unit):\n",
    "\n",
    "    '''\n",
    "    Purpose: \n",
    "    Convert the fitsfile unit from Jy/beam to uJy/beam or mJy/beam \n",
    "    \n",
    "    Input:\n",
    "    - filename_in           # Input filename [str]\n",
    "    - filename_out          # Output filename [str]\n",
    "    - convert_unit          # Convert unit: 'Jy2uJy' or 'Jy2mJy'\n",
    "    \n",
    "    Output:\n",
    "      N/A\n",
    "    '''   \n",
    "    \n",
    "    # Get the data & the header\n",
    "    im = pyfits.getdata(filename_in)\n",
    "    hd = pyfits.getheader(filename_in)\n",
    "    hd_unit_in = hd['BUNIT']    \n",
    "    \n",
    "    # Set the parameters based on the input convert unit\n",
    "    if convert_unit == 'Jy2mJy':\n",
    "        convert_value = 1e3\n",
    "        hd_unit_out = 'mJy/beam'\n",
    "    elif convert_unit == 'Jy2uJy':\n",
    "        convert_unit = 1e6\n",
    "        hd_unit_out = 'uJy/beam'\n",
    "    \n",
    "    # Convert the images unit\n",
    "    im_convert = im*convert_value\n",
    "    pyfits.writeto(filename_out, im_convert, hd, overwrite=True)\n",
    "    \n",
    "    # Change the header of the output fitsfile\n",
    "    pyfits.setval(filename_out, 'BUNIT', value = hd_unit_out)\n",
    "    \n",
    "    print ('Convert images %s to %s.'%(filename_in, filename_out))\n",
    "    print ('Unit from %s to %s.'%(hd_unit_in, hd_unit_out))\n",
    "    print ('#----------------------------------------')\n",
    "\n",
    "#----------------------------------------------------------\n",
    "#Fitsfile = do_convert_unit(outname, convert_unit, stoke)"
   ]
  },
  {
   "cell_type": "code",
   "execution_count": 4,
   "metadata": {},
   "outputs": [
    {
     "name": "stderr",
     "output_type": "stream",
     "text": [
      "/usr/local/lib/python3.7/site-packages/ipykernel_launcher.py:30: RuntimeWarning: invalid value encountered in less\n",
      "/usr/local/lib/python3.7/site-packages/ipykernel_launcher.py:35: RuntimeWarning: invalid value encountered in less\n"
     ]
    },
    {
     "name": "stdout",
     "output_type": "stream",
     "text": [
      "CPU times: user 308 ms, sys: 634 ms, total: 942 ms\n",
      "Wall time: 1.1 s\n"
     ]
    }
   ],
   "source": [
    "%%time\n",
    "#----------------------------------------\n",
    "# mask the images with PI < 3 sigma_PI\n",
    "#----------------------------------------\n",
    "outnames = [\n",
    "            outname_b4, outname_b7\n",
    "            ]\n",
    "\n",
    "for outname in outnames:\n",
    "  \n",
    "    #----------------------------------------\n",
    "    # Get the Imagename\n",
    "    I_imageName, Q_imageName, U_imageName, PI_imageName, PI_cut3PI_imageName,\\\n",
    "    PA_imageName, Per_imageName, Per_cut3PI_imageName, BT_imageName = slt_imageName(outname)\n",
    "    \n",
    "    # Get the rms and criteria\n",
    "    rms_I, rms_Q, rms_PI, I_clip, PI_lowclip, PI_highclip, \\\n",
    "    sampling, PI_vmax, convert_unit = slt_parm(outname)\n",
    "    \n",
    "    # Get the FITS file and the header\n",
    "    I_data = pyfits.getdata(I_imageName)\n",
    "    I_hd = pyfits.getheader(I_imageName)\n",
    "    PI_data = pyfits.getdata(PI_imageName)\n",
    "    PI_hd = pyfits.getheader(PI_imageName)\n",
    "    Per_data = pyfits.getdata(Per_imageName)\n",
    "    Per_hd = pyfits.getheader(Per_imageName)\n",
    "\n",
    "    #----------------------------------------\n",
    "    # Per (PI > 3 rms_PI)\n",
    "    Per_data_mask = Per_data\n",
    "    Per_data_mask[PI_data < 3.* rms_PI] = np.nan\n",
    "    Per_data_mask[I_data < 3.* rms_I] = np.nan\n",
    "    \n",
    "    # PI (PI > 3 rms_PI)\n",
    "    PI_data_mask = PI_data\n",
    "    PI_data_mask[PI_data < 3.* rms_PI] = np.nan\n",
    "    PI_data_mask[I_data < 3.* rms_I] = np.nan\n",
    "    \n",
    "    # Output the fits files\n",
    "    pyfits.writeto(Per_cut3PI_imageName, Per_data_mask, Per_hd, overwrite=True)\n",
    "    pyfits.writeto(PI_cut3PI_imageName, PI_data_mask, PI_hd, overwrite=True)\n",
    "    \n",
    "#----------------------------------------------------------"
   ]
  },
  {
   "cell_type": "code",
   "execution_count": 5,
   "metadata": {},
   "outputs": [
    {
     "name": "stdout",
     "output_type": "stream",
     "text": [
      "Convert images ../Image_Data/n1333iras4a_B4_uv24_2900kl_sm200_100mas_noshift_PI_cut3PI.image.fits to ../Image_Data/n1333iras4a_B4_uv24_2900kl_sm200_100mas_noshift_PI_cut3PI_Jy2mJy.image.fits.\n",
      "Unit from Jy/beam to mJy/beam.\n",
      "#----------------------------------------\n",
      "Convert images ../Image_Data/n1333iras4a_B7_uv24_2900kl_sm200_100mas_noshift_PI_cut3PI.image.fits to ../Image_Data/n1333iras4a_B7_uv24_2900kl_sm200_100mas_noshift_PI_cut3PI_Jy2mJy.image.fits.\n",
      "Unit from Jy/beam to mJy/beam.\n",
      "#----------------------------------------\n",
      "CPU times: user 146 ms, sys: 296 ms, total: 442 ms\n",
      "Wall time: 505 ms\n"
     ]
    }
   ],
   "source": [
    "%%time\n",
    "#----------------------------------------\n",
    "# Call the convert unit function\n",
    "\n",
    "outnames = [\n",
    "            outname_b4, outname_b7\n",
    "            ]\n",
    "\n",
    "for outname in outnames:\n",
    "    \n",
    "    #PI_cut3PI_imageName  = '%s%s_PI_cut3PI.image.fits'%(path_image, outname)\n",
    "\n",
    "    filename_in  = '%s%s_PI_cut3PI.image.fits'%(path_image, outname)\n",
    "    filename_out = '%s%s_PI_cut3PI_Jy2mJy.image.fits'%(path_image, outname)\n",
    "    convert_value = 'Jy2mJy'\n",
    "\n",
    "    do_convert_unit(filename_in, filename_out, convert_value)\n",
    "    \n",
    "#----------------------------------------------------------"
   ]
  },
  {
   "cell_type": "code",
   "execution_count": null,
   "metadata": {},
   "outputs": [],
   "source": []
  }
 ],
 "metadata": {
  "kernelspec": {
   "display_name": "Python 3",
   "language": "python",
   "name": "python3"
  },
  "language_info": {
   "codemirror_mode": {
    "name": "ipython",
    "version": 3
   },
   "file_extension": ".py",
   "mimetype": "text/x-python",
   "name": "python",
   "nbconvert_exporter": "python",
   "pygments_lexer": "ipython3",
   "version": "3.7.3"
  }
 },
 "nbformat": 4,
 "nbformat_minor": 2
}
