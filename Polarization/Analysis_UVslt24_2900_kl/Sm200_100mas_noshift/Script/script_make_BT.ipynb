{
 "cells": [
  {
   "cell_type": "code",
   "execution_count": 1,
   "metadata": {},
   "outputs": [],
   "source": [
    "import numpy as np\n",
    "import astropy.io.fits as pyfits\n",
    "\n",
    "from sys import argv\n",
    "import warnings\n",
    "import time\n",
    "import os"
   ]
  },
  {
   "cell_type": "code",
   "execution_count": 2,
   "metadata": {},
   "outputs": [],
   "source": [
    "#----------------------------------------\n",
    "# define functions\n",
    "#----------------------------------------\n",
    "def brightness_T(I, bmaj, bmin, freq):\n",
    "    '''\n",
    "    Calculate the Brightness Teperature (K)\n",
    "    '''\n",
    "    I_mJy_beam = I*1000.              # Stoke I [y/beam -> mJy/beam]\n",
    "    bmaj_arcs = bmaj*3600.            # maximum axis of beam [deg -> arcsec]\n",
    "    bmin_arcs = bmin*3600.            # minimum axis of beam [deg -> arcsec]\n",
    "    freq_GHz = np.divide(freq,1e9)    # Frequency [Hz -> GHz]\n",
    "    BT_K = 1.222e3*np.divide( I_mJy_beam, np.power(freq_GHz,2)*bmaj_arcs*bmin_arcs )\n",
    "    \n",
    "    return BT_K"
   ]
  },
  {
   "cell_type": "code",
   "execution_count": 3,
   "metadata": {},
   "outputs": [],
   "source": [
    "#---------------------------------------\n",
    "# Input some parameters from parameter.ipynb\n",
    "#---------------------------------------\n",
    "%run parameter.ipynb\n",
    "\n",
    "#---------------------------------------\n",
    "# Input parameters used in this program:\n",
    "\n",
    "###-------------------------------------\n",
    "### Path name & outname & imageName\n",
    "# path_image, path_BT\n",
    "# outname_b4,  outname_b7\n",
    "# I_imageName, BT_imageName\n",
    "\n",
    "###-------------------------------------\n",
    "### criteria and rms for the imaging\n",
    "# I_clip_b4, I_clip_b7 [Jy beam-1]"
   ]
  },
  {
   "cell_type": "code",
   "execution_count": 4,
   "metadata": {},
   "outputs": [
    {
     "name": "stdout",
     "output_type": "stream",
     "text": [
      "B4 frequency = 138.00000000010002 [GHz]\n",
      "B4 beamsize = 0.200 x 0.100 [arcsec], -0.000 [deg]\n",
      "#----------------------------------------\n",
      "B7 frequency = 336.5000000001 [GHz]\n",
      "B7 beamsize = 0.200 x 0.100 [arcsec], -0.000 [deg]\n",
      "#----------------------------------------\n",
      "CPU times: user 164 ms, sys: 321 ms, total: 485 ms\n",
      "Wall time: 634 ms\n"
     ]
    }
   ],
   "source": [
    "%%time\n",
    "#---------------------------------------\n",
    "# Set the outname (different observed bands)\n",
    "outnames = [\n",
    "             outname_b4, outname_b7\n",
    "            ]\n",
    "\n",
    "for outname in outnames:\n",
    "\n",
    "    #---------------------------------------\n",
    "    # Get the Imagename\n",
    "    I_imageName, Q_imageName, U_imageName, PI_imageName, PI_cut3PI_imageName,\\\n",
    "    PA_imageName, Per_imageName, Per_cut3PI_imageName, BT_imageName = slt_imageName(outname)\n",
    "\n",
    "    # Get the rms and criteria\n",
    "    rms_I, rms_Q, rms_PI, I_clip, PI_lowclip, PI_highclip, \\\n",
    "    sampling, PI_vmax, convert_unit = slt_parm(outname)\n",
    "\n",
    "    # Get the FITS and header\n",
    "    I_data = pyfits.getdata(I_imageName)\n",
    "    I_hd = pyfits.getheader(I_imageName)\n",
    "\n",
    "    # Get the frequency and beam information from header\n",
    "    hd_freq = float(I_hd['RESTFRQ'])\n",
    "    hd_bmaj = float(I_hd['BMAJ'])\n",
    "    hd_bmin = float(I_hd['BMIN'])\n",
    "    hd_bpa = float(I_hd['BPA'])\n",
    "\n",
    "    print (\"{0} frequency = {1} [GHz]\".format(outname[12:14], hd_freq/1e9))\n",
    "    print (\"{0} beamsize = {1:.3f} x {2:.3f} [arcsec], {3:.3f} [deg]\".format(outname[12:14], hd_bmaj*3600.,hd_bmin*3600.,hd_bpa))\n",
    "    print ('#----------------------------------------')\n",
    "    #---------------------------------------\n",
    "    # Calculate brightness temperature\n",
    "    BT = brightness_T(I_data, hd_bmaj, hd_bmin, hd_freq)\n",
    "    BT[I_data<I_clip] = np.nan\n",
    "\n",
    "    # Save the brightness temperature FITS file\n",
    "    # caution: header is from Stokes I\n",
    "    pyfits.writeto(BT_imageName, BT, I_hd, overwrite=True)"
   ]
  },
  {
   "cell_type": "code",
   "execution_count": null,
   "metadata": {},
   "outputs": [],
   "source": []
  }
 ],
 "metadata": {
  "kernelspec": {
   "display_name": "Python 3",
   "language": "python",
   "name": "python3"
  },
  "language_info": {
   "codemirror_mode": {
    "name": "ipython",
    "version": 3
   },
   "file_extension": ".py",
   "mimetype": "text/x-python",
   "name": "python",
   "nbconvert_exporter": "python",
   "pygments_lexer": "ipython3",
   "version": "3.7.3"
  }
 },
 "nbformat": 4,
 "nbformat_minor": 2
}
